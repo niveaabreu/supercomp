{
  "nbformat": 4,
  "nbformat_minor": 0,
  "metadata": {
    "colab": {
      "provenance": [],
      "authorship_tag": "ABX9TyOpsJARpAp7MxGxmGYyeIzg",
      "include_colab_link": true
    },
    "kernelspec": {
      "name": "python3",
      "display_name": "Python 3"
    },
    "language_info": {
      "name": "python"
    }
  },
  "cells": [
    {
      "cell_type": "markdown",
      "metadata": {
        "id": "view-in-github",
        "colab_type": "text"
      },
      "source": [
        "<a href=\"https://colab.research.google.com/github/niveaabreu/supercomp/blob/master/material/aulas/05-heuristicas/Aula5.ipynb\" target=\"_parent\"><img src=\"https://colab.research.google.com/assets/colab-badge.svg\" alt=\"Open In Colab\"/></a>"
      ]
    },
    {
      "cell_type": "code",
      "execution_count": 5,
      "metadata": {
        "colab": {
          "base_uri": "https://localhost:8080/"
        },
        "id": "3aWQOnAhNJSm",
        "outputId": "bc110492-a5ee-4808-dc88-20f0458d6933"
      },
      "outputs": [
        {
          "output_type": "stream",
          "name": "stdout",
          "text": [
            "Cloning into 'supercomp'...\n",
            "remote: Enumerating objects: 197, done.\u001b[K\n",
            "remote: Counting objects: 100% (197/197), done.\u001b[K\n",
            "remote: Compressing objects: 100% (157/157), done.\u001b[K\n",
            "remote: Total 197 (delta 4), reused 145 (delta 3), pack-reused 0\u001b[K\n",
            "Receiving objects: 100% (197/197), 26.14 MiB | 13.02 MiB/s, done.\n",
            "Resolving deltas: 100% (4/4), done.\n",
            "Already on 'master'\n",
            "Your branch is up to date with 'origin/master'.\n"
          ]
        }
      ],
      "source": [
        "!rm -rf supercomp\n",
        "!rm -rf 05-heuristicas\n",
        "!git clone --depth 1 --branch master --no-checkout https://github.com/niveaabreu/supercomp.git\n",
        "!cd supercomp&&git sparse-checkout set material/aulas/05-heuristicas/\n",
        "!cd supercomp&&git checkout master\n",
        "!mv supercomp/material/aulas/05-heuristicas/* .\n",
        "!rm -rf supercomp"
      ]
    },
    {
      "cell_type": "code",
      "source": [
        "%%writefile heuristica.cpp\n",
        "#include <iostream>\n",
        "#include <vector>\n",
        "#include <cmath>\n",
        "#include <algorithm>\n",
        "using namespace std;\n",
        "\n",
        "struct  item {\n",
        "    int id;\n",
        "    double peso;\n",
        "    double valor;\n",
        "};\n",
        "\n",
        "bool mais_caro(item a, item b){\n",
        "  return a.valor>b.valor;\n",
        "}\n",
        "\n",
        "int main(){\n",
        " int totalitens;\n",
        " int totaldopeso;\n",
        " vector<item> vec;\n",
        "\n",
        " cin >> totalitens;\n",
        " cin >> totaldopeso;\n",
        "\n",
        " for (int i = 0; i < totalitens; i++) {\n",
        "    item item_temporario;\n",
        "    item_temporario.id = i;\n",
        "    cin >> item_temporario.peso;\n",
        "    cin>> item_temporario.valor;\n",
        "    vec.push_back(item_temporario);\n",
        " }\n",
        "\n",
        "\n",
        " sort (vec.begin(),vec.end(),mais_caro);\n",
        " int peso=0;\n",
        " int valor=0;\n",
        " vector<int> resultado;\n",
        " int T=0;\n",
        " for (int i = 0; i < totalitens; i++){\n",
        "    if(peso + vec[i].peso<=totaldopeso){\n",
        "       resultado.push_back(vec[i].id);\n",
        "       peso+=vec[i].peso;\n",
        "       valor+=vec[i].valor;\n",
        "       T+=1;\n",
        "    }\n",
        " }\n",
        " cout << \"Peso:  \" << peso << \" Valor \" << valor << \" 0\\n\";\n",
        "\n",
        " for (int i = 0; i < T; i++){\n",
        "     cout << resultado[i] << \" \";\n",
        " }\n",
        "\n",
        "\n",
        "}"
      ],
      "metadata": {
        "colab": {
          "base_uri": "https://localhost:8080/"
        },
        "id": "_cHzC009OURN",
        "outputId": "fd4b73ba-01d3-4dd8-da3c-01ef9a3db61e"
      },
      "execution_count": 9,
      "outputs": [
        {
          "output_type": "stream",
          "name": "stdout",
          "text": [
            "Overwriting heuristica.cpp\n"
          ]
        }
      ]
    },
    {
      "cell_type": "code",
      "source": [
        "!g++ -Wall -O3 -g heuristica.cpp -o heuristica\n",
        "!cat in1.txt | ./heuristica"
      ],
      "metadata": {
        "colab": {
          "base_uri": "https://localhost:8080/"
        },
        "id": "ne4FWGCac_qZ",
        "outputId": "57185d1a-64e8-4770-b611-2051b7ad0d0c"
      },
      "execution_count": 10,
      "outputs": [
        {
          "output_type": "stream",
          "name": "stdout",
          "text": [
            "Peso:  10 Valor 266 0\n",
            "6 3 4 "
          ]
        }
      ]
    },
    {
      "cell_type": "code",
      "source": [
        "%%writefile maisleve.cpp\n",
        "#include <iostream>\n",
        "#include <vector>\n",
        "#include <cmath>\n",
        "#include <algorithm>\n",
        "using namespace std;\n",
        "\n",
        "struct  item {\n",
        "    int id;\n",
        "    double peso;\n",
        "    double valor;\n",
        "};\n",
        "\n",
        "bool menor_peso(item a, item b){\n",
        "  return a.peso<b.peso;\n",
        "}\n",
        "\n",
        "int main(){\n",
        " int totalitens;\n",
        " int totaldopeso;\n",
        " vector<item> vec;\n",
        "\n",
        " cin >> totalitens;\n",
        " cin >> totaldopeso;\n",
        "\n",
        " for (int i = 0; i < totalitens; i++) {\n",
        "    item item_temporario;\n",
        "    item_temporario.id = i;\n",
        "    cin >> item_temporario.peso;\n",
        "    cin>> item_temporario.valor;\n",
        "    vec.push_back(item_temporario);\n",
        " }\n",
        "\n",
        "\n",
        " sort (vec.begin(),vec.end(),menor_peso);\n",
        " int peso=0;\n",
        " int valor=0;\n",
        " vector<int> resultado;\n",
        " int T=0;\n",
        " for (int i = 0; i < totalitens; i++){\n",
        "    if(peso + vec[i].peso<=totaldopeso){\n",
        "       resultado.push_back(vec[i].id);\n",
        "       peso+=vec[i].peso;\n",
        "       valor+=vec[i].valor;\n",
        "       T+=1;\n",
        "    }\n",
        " }\n",
        " cout << \"Peso:  \" << peso << \" Valor \" << valor << \" 0\\n\";\n",
        "\n",
        " for (int i = 0; i < T; i++){\n",
        "     cout << resultado[i] << \" \";\n",
        " }\n",
        "\n",
        "\n",
        "}"
      ],
      "metadata": {
        "colab": {
          "base_uri": "https://localhost:8080/"
        },
        "id": "2mET_PffJqg9",
        "outputId": "f79e849b-2cd5-4476-e360-a5728d6e6308"
      },
      "execution_count": 11,
      "outputs": [
        {
          "output_type": "stream",
          "name": "stdout",
          "text": [
            "Writing maisleve.cpp\n"
          ]
        }
      ]
    },
    {
      "cell_type": "code",
      "source": [
        "!g++ -Wall -O3 -g maisleve.cpp -o maisleve\n",
        "!cat in1.txt | ./maisleve"
      ],
      "metadata": {
        "colab": {
          "base_uri": "https://localhost:8080/"
        },
        "id": "IYUEgUlHLwqy",
        "outputId": "152323c1-791f-43ec-a257-df742d5c130c"
      },
      "execution_count": 12,
      "outputs": [
        {
          "output_type": "stream",
          "name": "stdout",
          "text": [
            "Peso:  10 Valor 235 0\n",
            "6 0 8 9 "
          ]
        }
      ]
    }
  ]
}