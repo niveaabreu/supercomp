{
  "nbformat": 4,
  "nbformat_minor": 0,
  "metadata": {
    "colab": {
      "provenance": [],
      "authorship_tag": "ABX9TyPG/ZwJAYiqqhnJphBx+ZMM",
      "include_colab_link": true
    },
    "kernelspec": {
      "name": "python3",
      "display_name": "Python 3"
    },
    "language_info": {
      "name": "python"
    }
  },
  "cells": [
    {
      "cell_type": "markdown",
      "metadata": {
        "id": "view-in-github",
        "colab_type": "text"
      },
      "source": [
        "<a href=\"https://colab.research.google.com/github/niveaabreu/supercomp/blob/master/material/aulas/06-aleatorizacao/Aula6.ipynb\" target=\"_parent\"><img src=\"https://colab.research.google.com/assets/colab-badge.svg\" alt=\"Open In Colab\"/></a>"
      ]
    },
    {
      "cell_type": "code",
      "execution_count": 2,
      "metadata": {
        "colab": {
          "base_uri": "https://localhost:8080/"
        },
        "id": "O-_ZZEMQSgeg",
        "outputId": "5d1f6662-b455-486a-d593-63eb4fb9fb60"
      },
      "outputs": [
        {
          "output_type": "stream",
          "name": "stdout",
          "text": [
            "Cloning into 'supercomp'...\n",
            "remote: Enumerating objects: 198, done.\u001b[K\n",
            "remote: Counting objects: 100% (198/198), done.\u001b[K\n",
            "remote: Compressing objects: 100% (158/158), done.\u001b[K\n",
            "remote: Total 198 (delta 4), reused 144 (delta 3), pack-reused 0\u001b[K\n",
            "Receiving objects: 100% (198/198), 26.14 MiB | 14.65 MiB/s, done.\n",
            "Resolving deltas: 100% (4/4), done.\n",
            "Already on 'master'\n",
            "Your branch is up to date with 'origin/master'.\n"
          ]
        }
      ],
      "source": [
        "!rm -rf supercomp\n",
        "!rm -rf 06-aleatorizacao\n",
        "!git clone --depth 1 --branch master --no-checkout https://github.com/niveaabreu/supercomp.git\n",
        "!cd supercomp&&git sparse-checkout set material/aulas/06-aleatorizacao/\n",
        "!cd supercomp&&git checkout master\n",
        "!mv supercomp/material/aulas/06-aleatorizacao/* .\n",
        "!rm -rf supercomp"
      ]
    },
    {
      "cell_type": "code",
      "source": [
        "%%writefile heuristica.cpp\n",
        "#include <iostream>\n",
        "#include <vector>\n",
        "#include <cmath>\n",
        "#include <algorithm>\n",
        "#include <random>\n",
        "using namespace std;\n",
        "\n",
        "\n",
        "\n",
        "\n",
        "struct  item {\n",
        "    int id;\n",
        "    double peso;\n",
        "    double valor;\n",
        "};\n",
        "\n",
        "bool mais_caro(item a, item b){\n",
        "  return a.valor>b.valor;\n",
        "}\n",
        "\n",
        "int main(){\n",
        " int totalitens;\n",
        " int totaldopeso;\n",
        " vector<item> vec;\n",
        "\n",
        " cin >> totalitens;\n",
        " cin >> totaldopeso;\n",
        "\n",
        " for (int i = 0; i < totalitens; i++) {\n",
        "    item item_temporario;\n",
        "    item_temporario.id = i;\n",
        "    cin >> item_temporario.peso;\n",
        "    cin>> item_temporario.valor;\n",
        "    vec.push_back(item_temporario);\n",
        " }\n",
        "\n",
        "\n",
        " sort (vec.begin(),vec.end(),mais_caro);\n",
        " int peso=0;\n",
        " int valor=0;\n",
        " vector<int> resultado;\n",
        " int T=0;\n",
        " for (int i = 0; i < totalitens; i++){\n",
        "  default_random_engine generator(10);\n",
        "  uniform_real_distribution<double> distribution(0.0, 1.0);\n",
        "  double aleatorio=distribution(generator); // gera número\n",
        "  if(aleatorio>0.25){\n",
        "      if(peso + vec[i].peso<totaldopeso){\n",
        "       resultado.push_back(vec[i].id);\n",
        "       peso+=vec[i].peso;\n",
        "       valor+=vec[i].valor;\n",
        "       T+=1;\n",
        "    }\n",
        "  }\n",
        "  else{\n",
        "      default_random_engine generator;\n",
        "      uniform_real_distribution<double> distribution(i, totalitens-1);\n",
        "      int indice_aleatorio=(int) distribution(generator); // gera número\n",
        "      if(peso + vec[indice_aleatorio].peso<totaldopeso){\n",
        "        resultado.push_back(vec[indice_aleatorio].id);\n",
        "        peso+=vec[indice_aleatorio].peso;\n",
        "        valor+=vec[indice_aleatorio].valor;\n",
        "        T+=1;\n",
        "    }\n",
        "  }\n",
        "\n",
        " }\n",
        " cout << \"Peso:  \" << peso << \" Valor \" << valor << \" 0\\n\";\n",
        "\n",
        " for (int i = 0; i < T; i++){\n",
        "     cout << resultado[i] << \" \";\n",
        " }\n",
        "\n",
        "\n",
        "}"
      ],
      "metadata": {
        "colab": {
          "base_uri": "https://localhost:8080/"
        },
        "id": "4llFVoj5TEyI",
        "outputId": "9a47fc2d-2b8d-4904-fbc5-f9976640f9cb"
      },
      "execution_count": 15,
      "outputs": [
        {
          "output_type": "stream",
          "name": "stdout",
          "text": [
            "Overwriting heuristica.cpp\n"
          ]
        }
      ]
    },
    {
      "cell_type": "code",
      "source": [
        "!g++ -Wall -O3 -g heuristica.cpp -o heuristica\n",
        "!cat in1.txt | ./heuristica"
      ],
      "metadata": {
        "colab": {
          "base_uri": "https://localhost:8080/"
        },
        "id": "vUiitA5bUSZ-",
        "outputId": "afbb277b-5f2c-4656-d9f9-72489469017d"
      },
      "execution_count": 16,
      "outputs": [
        {
          "output_type": "stream",
          "name": "stdout",
          "text": [
            "Peso:  6 Valor 223 0\n",
            "7 1 8 "
          ]
        }
      ]
    },
    {
      "cell_type": "code",
      "source": [],
      "metadata": {
        "id": "tFcXP2qFelym"
      },
      "execution_count": null,
      "outputs": []
    }
  ]
}