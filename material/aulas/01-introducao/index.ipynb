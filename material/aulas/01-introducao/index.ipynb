{
  "cells": [
    {
      "cell_type": "markdown",
      "metadata": {
        "id": "lE1VVgwIohq9"
      },
      "source": [
        "# 01 - Introdução a SuperComputação\n",
        "\n",
        "Como vimos na expositiva, uma solução de alto desempenho depende de três partes:\n",
        "\n",
        "1. algoritmos eficientes\n",
        "2. implementações eficientes\n",
        "3. paralelismo\n",
        "\n",
        "Na atividade de hoje vamos estudar o primeiro ponto e quantificar o efeito de algoritmos eficientes na resolução de um problema complexo.\n",
        "\n",
        "## Problemas estudados em SuperComputação\n",
        "\n",
        "Em Desafios de Programação conhecemos a classe dos problemas NP-completo, que são aqueles que acreditamos não existir nenhum algoritmo determinístico que os resolvem em tempo polinomial. Ou seja, são problemas importantes cuja solução é difícil. Em geral temos classes de algoritmos para resolvê-los:\n",
        "\n",
        "1. ótimos globais: algoritmo que encontra a solução \"correta\" do problema.\n",
        "2. ótimos locais: algoritmo que encontra uma solução \"boa\" e que não pode ser melhorada por pequenas modificações.\n",
        "3. aproximação: algoritmos que garantem estar \"perto o suficiente\" da solução ótima. Este tipo de algoritmo não nos interessa em SuperComputação.\n",
        "\n",
        "Iremos analisar hoje 4 executáveis que resolvem o problema do [Caixeiro Viajante](https://en.wikipedia.org/wiki/Travelling_salesman_problem).\n",
        "\n",
        "1. `busca-local-1` - implementação de um método de busca rápida, porém não ótima.\n",
        "1. `busca-local-1-par` - implementação paralela do programa acima.\n",
        "2. `busca-local-2` - implementação alternativa do mesmo método acima. Os resultados de ambos são idênticos.\n",
        "2. `busca-local-2-par` - implementação paralela do programa acima.\n",
        "\n",
        "!!! important\n",
        "    Não estamos interessados no Caixeiro Viajante em si hoje. Queremos é comparar diferentes maneiras de resolvê-lo para entendermos o papel de técnicas de SuperComputação na velocidade de processamento e nos resultados obtidos.\n",
        "\n",
        "\n",
        "## Ferramental\n",
        "\n",
        "Realizar testes de maneira automatizada é muito importante para quantificar os efeitos de diferentes algoritmos e técnicas de paralelismo. O snippet abaixo executa"
      ]
    },
    {
      "cell_type": "code",
      "source": [
        "!rm -rf supercomp\n",
        "!rm -rf 01-introducao\n",
        "!git clone --depth 1 --branch master --no-checkout https://github.com/niveaabreu/supercomp.git\n",
        "!cd supercomp&&git sparse-checkout set material/aulas/01-introducao\n",
        "!cd supercomp&&git checkout master\n",
        "!mv supercomp/material/aulas/01-introducao/entradas-busca-local .\n",
        "!mv supercomp/material/aulas/01-introducao/* .\n",
        "!rm -rf supercomp"
      ],
      "metadata": {
        "id": "Cpy222AGompw",
        "outputId": "f369e952-71cb-4cdd-e98b-44aec3b988e5",
        "colab": {
          "base_uri": "https://localhost:8080/"
        }
      },
      "execution_count": 2,
      "outputs": [
        {
          "output_type": "stream",
          "name": "stdout",
          "text": [
            "Cloning into 'supercomp'...\n",
            "remote: Enumerating objects: 194, done.\u001b[K\n",
            "remote: Counting objects: 100% (194/194), done.\u001b[K\n",
            "remote: Compressing objects: 100% (154/154), done.\u001b[K\n",
            "remote: Total 194 (delta 4), reused 144 (delta 3), pack-reused 0\u001b[K\n",
            "Receiving objects: 100% (194/194), 26.13 MiB | 25.63 MiB/s, done.\n",
            "Resolving deltas: 100% (4/4), done.\n",
            "Already on 'master'\n",
            "Your branch is up to date with 'origin/master'.\n"
          ]
        }
      ]
    },
    {
      "cell_type": "code",
      "execution_count": 3,
      "metadata": {
        "tags": [
          "outputPrepend"
        ],
        "id": "YLvPRBzcohrG",
        "outputId": "01dae338-10fa-45c8-95a4-ea34b2262c90",
        "colab": {
          "base_uri": "https://localhost:8080/"
        }
      },
      "outputs": [
        {
          "output_type": "stream",
          "name": "stdout",
          "text": [
            "Saída: 232.234 0\n",
            "3 0 4 1 2 \n",
            "\n",
            "Stderr: \n",
            "Tempo total(s): 0.004236388999970586\n"
          ]
        }
      ],
      "source": [
        "import subprocess\n",
        "import time\n",
        "\n",
        "with open('entradas-busca-local/in-0.txt') as f:\n",
        "    start = time.perf_counter()\n",
        "    proc = subprocess.run(['./busca-local-1'], input=f.read(), text=True, capture_output=True)\n",
        "    end = time.perf_counter()\n",
        "\n",
        "    print('Saída:', proc.stdout)\n",
        "    print('Stderr:', proc.stderr)\n",
        "    print('Tempo total(s):', end - start)"
      ]
    },
    {
      "cell_type": "markdown",
      "metadata": {
        "id": "qQhFcqVJohrI"
      },
      "source": [
        "Vamos agora praticar usar este snippet para executar nossos testes automaticamente.\n",
        "\n",
        "!!! example\n",
        "\n",
        "    Crie uma função `roda_com_entrada(executavel, arquivo_in)` que roda o primeiro argumento usando como entrada o conteúdo do segundo argumento. Teste seu código com o executável `busca-local-1` e com o arquivo de entrada `in-0.txt` usado no exemplo acima.\n",
        "\n",
        "    Sua função deverá devolver uma tupla `(stdout,time)` com `stdout` sendo a saída do programa e `time` seu tempo de execução em segundos."
      ]
    },
    {
      "cell_type": "code",
      "execution_count": null,
      "metadata": {
        "id": "_QPkAHtpohrJ"
      },
      "outputs": [],
      "source": [
        "# TODO: exercício aqui"
      ]
    },
    {
      "cell_type": "markdown",
      "metadata": {
        "id": "MmUQTgSOohrK"
      },
      "source": [
        "## Algoritmos sequenciais\n",
        "\n",
        "Com esse código, vamos criar um relatório interativo que roda nossos testes automaticamente e já plota informações prontas para nossas análises. Vamos começar examinando o desempenho do executável `busca-local-1`.\n",
        "\n",
        "!!! example\n",
        "\n",
        "    Rode o `busca-local` com os arquivos de entrada na pasta `entradas-busca-local`. Guarde os tempos em uma lista.\n",
        "\n",
        "!!! example\n",
        "\n",
        "    Leia o tamanho das entradas dos arquivos  na pasta `entradas-busca-local` e guarde em uma segunda lista.\n",
        "\n",
        "!!! example\n",
        "\n",
        "    Plote o tempo de execução pelo tamanho da entrada usando `matplotlib`"
      ]
    },
    {
      "cell_type": "code",
      "execution_count": null,
      "metadata": {
        "id": "sZzw05tZohrK"
      },
      "outputs": [],
      "source": [
        "# TODO: exercício aqui"
      ]
    },
    {
      "cell_type": "markdown",
      "metadata": {
        "id": "__EcPp87ohrL"
      },
      "source": [
        "!!! example\n",
        "    Repita os três passos acima para o executável `busca-local-2`. Finalize plotando os tempos de execução de ambos os executáveis no mesmo gráfico."
      ]
    },
    {
      "cell_type": "code",
      "execution_count": null,
      "metadata": {
        "id": "ahKz8M7ZohrL"
      },
      "outputs": [],
      "source": [
        "#TODO: seu código aqui"
      ]
    },
    {
      "source": [
        "!!! example\n",
        "    Segundo uma coleta de dados informal e altamente confiável, 93,17% dos alunos não colocam legendas nem títulos nos gráficos gerados. Faça isso agora."
      ],
      "cell_type": "markdown",
      "metadata": {
        "id": "3voWzqcYohrL"
      }
    },
    {
      "cell_type": "markdown",
      "metadata": {
        "id": "zzd3FvUfohrM"
      },
      "source": [
        "!!! question medium\n",
        "\n",
        "    Interprete o gráfico que você gerou na linha de cima.\n",
        "\n",
        "!!! question medium\n",
        "    Compare manualmente a saída dos programas. Existe diferença em seus resultados?\n",
        "\n",
        "!!! question medium\n",
        "    Resgate seus conhecimentos de Desafios de Programação e explique a diferença entre os algoritmos.\n",
        "\n",
        "\n",
        "## Algoritmos paralelos\n",
        "\n",
        "Na discussão inicial da expositiva chegamos à conclusão de que se conseguimos realizar *N* operações em paralelo teremos um ganho de no máximo *N* vezes no desempenho de nosso programa. Nesta parte iremos estudar esta afirmação usando implementações paralelas dos algoritmos da seção anterior.\n",
        "\n",
        "!!! example\n",
        "    Execute os algoritmos paralelos com as mesmas entradas e compare com suas versões paralelas. Use um gráfico para facilitar as comparações"
      ]
    },
    {
      "cell_type": "code",
      "execution_count": null,
      "metadata": {
        "id": "rnrzywFDohrN"
      },
      "outputs": [],
      "source": []
    },
    {
      "source": [
        "!!! question medium\n",
        "    Compare os tempos obtidos. Qual foi o ganho médio? Quantos *núcleos* a máquina que você está usando possui? Responda comparando cada algoritmo sequencial com sua versão paralela.\n",
        "\n",
        "Já estabelecemos que `busca-local-2` é melhor que `busca-local-1` por ser utilizar um algoritmo mais eficiente e vimos na prática a diferença entre um algoritmo $O(n^3)$ e um algoritmo $O(n^2)$. Vamos agora examinar a seguinte questão.\n",
        "\n",
        "!!! cite \"É possível usar paralelismo para tornar `busca-local-1-par` melhor que `busca-local-2`?\"\n",
        "\n",
        "!!! example\n",
        "    Compare o desempenho de `busca-local-1-par` com `busca-local-2`. Faça um gráfico"
      ],
      "cell_type": "markdown",
      "metadata": {
        "id": "Kex-aX7LohrN"
      }
    },
    {
      "cell_type": "code",
      "execution_count": null,
      "metadata": {
        "id": "inoqP4b6ohrO"
      },
      "outputs": [],
      "source": []
    },
    {
      "source": [
        "!!! question medium\n",
        "    Com base em seu gráfico acima, responda a pergunta: \"É possível usar paralelismo para tornar busca-local-1-par melhor que busca-local-2?\"\n",
        "\n",
        "Vamos agora generalizar a pergunta:\n",
        "\n",
        "!!! question medium\n",
        "    Dados dois algoritmos com complexidades computacionais diferentes, sendo que o primeiro é inferior ao segundo. É possível usar paralelismo para tornar o primeiro mais rápido que o segundo para todos tamanhos de entrada? Assuma que você possui um número fixo de *núcleos*.\n"
      ],
      "cell_type": "markdown",
      "metadata": {
        "id": "GXWqpVGDohrO"
      }
    }
  ],
  "metadata": {
    "kernelspec": {
      "display_name": "Python 3",
      "language": "python",
      "name": "python3"
    },
    "language_info": {
      "codemirror_mode": {
        "name": "ipython",
        "version": 3
      },
      "file_extension": ".py",
      "mimetype": "text/x-python",
      "name": "python",
      "nbconvert_exporter": "python",
      "pygments_lexer": "ipython3",
      "version": "3.8.0-final"
    },
    "colab": {
      "provenance": []
    }
  },
  "nbformat": 4,
  "nbformat_minor": 0
}