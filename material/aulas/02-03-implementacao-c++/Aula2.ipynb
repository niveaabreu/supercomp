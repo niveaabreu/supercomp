{
  "nbformat": 4,
  "nbformat_minor": 0,
  "metadata": {
    "colab": {
      "provenance": [],
      "authorship_tag": "ABX9TyMZT+ohC90cS7/Zp5eNSI0G"
    },
    "kernelspec": {
      "name": "python3",
      "display_name": "Python 3"
    },
    "language_info": {
      "name": "python"
    }
  },
  "cells": [
    {
      "cell_type": "code",
      "execution_count": null,
      "metadata": {
        "id": "8TEAr38qqoRV",
        "outputId": "b9b2a432-721d-43bb-fdab-547d1f3a5fc5",
        "colab": {
          "base_uri": "https://localhost:8080/"
        }
      },
      "outputs": [
        {
          "output_type": "stream",
          "name": "stdout",
          "text": [
            "Cloning into 'supercomp'...\n",
            "remote: Enumerating objects: 196, done.\u001b[K\n",
            "remote: Counting objects: 100% (196/196), done.\u001b[K\n",
            "remote: Compressing objects: 100% (156/156), done.\u001b[K\n",
            "remote: Total 196 (delta 4), reused 142 (delta 3), pack-reused 0\u001b[K\n",
            "Receiving objects: 100% (196/196), 26.13 MiB | 25.65 MiB/s, done.\n",
            "Resolving deltas: 100% (4/4), done.\n",
            "Already on 'master'\n",
            "Your branch is up to date with 'origin/master'.\n"
          ]
        }
      ],
      "source": [
        "!rm -rf supercomp\n",
        "!rm -rf 02-03-implementacao-c++\n",
        "!git clone --depth 1 --branch master --no-checkout https://github.com/niveaabreu/supercomp.git\n",
        "!cd supercomp&&git sparse-checkout set material/aulas/02-03-implementacao-c++/\n",
        "!cd supercomp&&git checkout master\n",
        "#!mv supercomp/material/aulas/01-introducao/entradas-busca-local .\n",
        "!mv supercomp/material/aulas/02-03-implementacao-c++//* .\n",
        "!rm -rf supercomp"
      ]
    },
    {
      "cell_type": "code",
      "source": [
        "%%writefile hello.cpp\n",
        "\n",
        "#include <iostream>\n",
        "int main(){\n",
        "  std::cout << \"Hello World\\n\";\n",
        "  return 0;\n",
        "}"
      ],
      "metadata": {
        "id": "FP_ZCKMcsCF1",
        "colab": {
          "base_uri": "https://localhost:8080/"
        },
        "outputId": "7ed4570e-b419-43a6-b6b1-c22d6cdff0ca"
      },
      "execution_count": null,
      "outputs": [
        {
          "output_type": "stream",
          "name": "stdout",
          "text": [
            "Overwriting hello.cpp\n"
          ]
        }
      ]
    },
    {
      "cell_type": "code",
      "source": [
        "!g++ hello.cpp -o hello\n",
        "!./hello"
      ],
      "metadata": {
        "colab": {
          "base_uri": "https://localhost:8080/"
        },
        "id": "lmAj1OCCVsoh",
        "outputId": "5abce8ba-1ff2-466b-899a-f38570ffc4c8"
      },
      "execution_count": null,
      "outputs": [
        {
          "output_type": "stream",
          "name": "stdout",
          "text": [
            "Hello World\n"
          ]
        }
      ]
    },
    {
      "cell_type": "code",
      "source": [
        "#celula de escrita do codigo\n",
        "%%writefile estrutura.cpp\n",
        "\n",
        "#include <iostream>\n",
        "\n",
        "int main(int argc, char *argv[]){\n",
        "  std::cout << \"Ola, \" << argv[1] <<  \"!\\n\";\n",
        "\n",
        "  return 0;\n",
        "}"
      ],
      "metadata": {
        "colab": {
          "base_uri": "https://localhost:8080/"
        },
        "id": "EyWxFK1gV3Jo",
        "outputId": "d5d81077-1c3b-4da2-ad93-0849eab78191"
      },
      "execution_count": null,
      "outputs": [
        {
          "output_type": "stream",
          "name": "stdout",
          "text": [
            "Overwriting estrutura.cpp\n"
          ]
        }
      ]
    },
    {
      "cell_type": "code",
      "source": [
        "!ls"
      ],
      "metadata": {
        "colab": {
          "base_uri": "https://localhost:8080/"
        },
        "id": "AtzpNUHjlltO",
        "outputId": "8c31804d-b249-4fa3-ab90-cdce35c5ea68"
      },
      "execution_count": null,
      "outputs": [
        {
          "output_type": "stream",
          "name": "stdout",
          "text": [
            "Aula2.ipynb    index.md     t6-in-0.txt  t6-in-4.txt   t6-out-3.txt\n",
            "estrutura.cpp  sample_data  t6-in-1.txt  t6-out-0.txt  t6-out-4.txt\n",
            "hello\t       slides.pdf   t6-in-2.txt  t6-out-1.txt  t6.py\n",
            "hello.cpp      t4.py\t    t6-in-3.txt  t6-out-2.txt\n"
          ]
        }
      ]
    },
    {
      "cell_type": "code",
      "source": [
        "#Compilar o codigo\n",
        "!g++ -g estrutura.cpp -o estrutura"
      ],
      "metadata": {
        "id": "ZHYqLfiOmJds"
      },
      "execution_count": null,
      "outputs": []
    },
    {
      "cell_type": "code",
      "source": [
        "# Roda o executavel\n",
        "!./estrutura \"insper\""
      ],
      "metadata": {
        "colab": {
          "base_uri": "https://localhost:8080/"
        },
        "id": "JOENQlJRmZxM",
        "outputId": "3431e0f0-94fb-4896-a801-0e34576d1fc9"
      },
      "execution_count": null,
      "outputs": [
        {
          "output_type": "stream",
          "name": "stdout",
          "text": [
            "Ola, insper!\n"
          ]
        }
      ]
    },
    {
      "cell_type": "code",
      "source": [
        "%%writefile variaveis.cpp\n",
        "\n",
        "#include <iostream>\n",
        "#include <string>\n",
        "\n",
        "using namespace std;\n",
        "\n",
        "int main(){\n",
        "\n",
        " //Define a variavel x\n",
        " int x;\n",
        " cout << \"Entre com um numero: \";\n",
        " cin >> x;\n",
        "\n",
        " cout << \"Voce digitou o valor: \" << x << \"\\n\";\n",
        "\n",
        " int y;\n",
        " string s;\n",
        " y=2*x;\n",
        " x=y*5;\n",
        " cout << \"x = \" << x << endl;\n",
        " cout << \"y = \" << y << endl;\n",
        " cout << \"Digite uma string: \";\n",
        " cin >> s;\n",
        " cout << \"Voce digitou \" << s << endl;\n",
        "\n",
        "  return 0;\n",
        "}\n"
      ],
      "metadata": {
        "colab": {
          "base_uri": "https://localhost:8080/"
        },
        "id": "8W9ObjhMn1rf",
        "outputId": "830e1fd8-e22c-40c8-87a6-efe7fb4a3863"
      },
      "execution_count": null,
      "outputs": [
        {
          "output_type": "stream",
          "name": "stdout",
          "text": [
            "Overwriting variaveis.cpp\n"
          ]
        }
      ]
    },
    {
      "cell_type": "code",
      "source": [
        "%%shell\n",
        "g++ variaveis.cpp -o variaveis\n",
        "./variaveis"
      ],
      "metadata": {
        "colab": {
          "base_uri": "https://localhost:8080/"
        },
        "id": "mGqjfu4vre8t",
        "outputId": "d611db56-dc38-461f-99b1-ff85ba3e24fe"
      },
      "execution_count": null,
      "outputs": [
        {
          "output_type": "stream",
          "name": "stdout",
          "text": [
            "Entre com um numero: 9\n",
            "Voce digitou o valor: 9\n",
            "x = 90\n",
            "y = 18\n",
            "Digite uma string: nivea\n",
            "Voce digitou nivea\n"
          ]
        },
        {
          "output_type": "execute_result",
          "data": {
            "text/plain": []
          },
          "metadata": {},
          "execution_count": 24
        }
      ]
    },
    {
      "cell_type": "code",
      "source": [
        "%%writefile condicionais.cpp\n",
        "\n",
        "#include <iostream>\n",
        "\n",
        "using namespace std;\n",
        "\n",
        "int main(){\n",
        "  int x;\n",
        "  cout << \"Entre com um numero: \";\n",
        "  cin >> x;\n",
        "\n",
        "  if (!cin) {\n",
        "    cout << \"Voce nao digitou u numero:\\n\";\n",
        "    return 1;\n",
        "  }\n",
        "\n",
        "  int y;\n",
        "  cout << \"Entre com outro numero: \";\n",
        "  cin >>y;\n",
        "\n",
        "  if(x<y){\n",
        "    cout << \"O primeiro numero eh MENOR que o segundo\\n\";\n",
        "  }else if (x==y){\n",
        "    cout << \"Os numeros sao IGUAIS!\\n\";\n",
        "  }else{\n",
        "    cout << \"O primeiro numero eh MAIOR que o segundo\\n\";\n",
        "  }\n",
        "\n",
        "  cout << \"Digite 2 numeros: \";\n",
        "  cin >> x >> y;\n",
        "  cout << \"x = \" << x << endl;\n",
        "  cout << \"y = \" << y <<endl;\n",
        "  return 0;\n",
        "\n",
        "\n",
        "\n",
        "\n",
        "  return 0;\n",
        "}\n",
        "\n",
        "\n"
      ],
      "metadata": {
        "colab": {
          "base_uri": "https://localhost:8080/"
        },
        "id": "u0bcFCcYus0i",
        "outputId": "c969f98e-20bb-470f-d078-186a2c7ad166"
      },
      "execution_count": null,
      "outputs": [
        {
          "output_type": "stream",
          "name": "stdout",
          "text": [
            "Overwriting condicionais.cpp\n"
          ]
        }
      ]
    },
    {
      "cell_type": "code",
      "source": [
        "%%shell\n",
        "g++ condicionais.cpp -o condicionais\n",
        "./condicionais"
      ],
      "metadata": {
        "colab": {
          "base_uri": "https://localhost:8080/"
        },
        "id": "6mpJ7Rtis8su",
        "outputId": "7169c9d4-72ce-4864-b9ba-1c0d0cf39816"
      },
      "execution_count": null,
      "outputs": [
        {
          "output_type": "stream",
          "name": "stdout",
          "text": [
            "Entre com um numero: 40\n",
            "Entre com outro numero: 45\n",
            "O primeiro numero eh MENOR que o segundo\n",
            "Digite 2 numeros: 4 0\n",
            "x = 4\n",
            "y = 0\n"
          ]
        },
        {
          "output_type": "execute_result",
          "data": {
            "text/plain": []
          },
          "metadata": {},
          "execution_count": 38
        }
      ]
    },
    {
      "cell_type": "code",
      "source": [
        "%%writefile lacos.cpp\n",
        "#include <iostream>\n",
        "#include <vector>\n",
        "using namespace std;\n",
        "\n",
        "int main(){\n",
        "  int w[]={1,2,3};\n",
        "  cout << w[0] << endl;\n",
        "\n",
        "  int x;\n",
        "  vector<int>v;\n",
        "  cout << \"Entre quantos numeros desejar: \" << endl;\n",
        "  while(cin >> x) {\n",
        "    v.push_back(x);\n",
        "  }\n",
        "\n",
        "  cout << \"Voce inseriu \" << v.size() << \" elementos no vetor\" <<endl;\n",
        "\n",
        "  return 0;\n",
        "}"
      ],
      "metadata": {
        "colab": {
          "base_uri": "https://localhost:8080/"
        },
        "id": "UswAh9cL0jHC",
        "outputId": "df5ce057-ecb7-4a25-fe31-84485eee137a"
      },
      "execution_count": null,
      "outputs": [
        {
          "output_type": "stream",
          "name": "stdout",
          "text": [
            "Overwriting lacos.cpp\n"
          ]
        }
      ]
    },
    {
      "cell_type": "code",
      "source": [
        "%%shell\n",
        "g++ lacos.cpp -o lacos\n",
        "./lacos"
      ],
      "metadata": {
        "colab": {
          "base_uri": "https://localhost:8080/"
        },
        "id": "XQr9aP4r2KgX",
        "outputId": "77a72923-e7e4-42ee-b158-8329945a0cbd"
      },
      "execution_count": null,
      "outputs": [
        {
          "output_type": "stream",
          "name": "stdout",
          "text": [
            "1\n",
            "Entre quantos numeros desejar: \n",
            "5\n",
            "x\n",
            "Voce inseriu 1 elementos no vetor\n"
          ]
        },
        {
          "output_type": "execute_result",
          "data": {
            "text/plain": []
          },
          "metadata": {},
          "execution_count": 46
        }
      ]
    },
    {
      "cell_type": "code",
      "source": [
        "%%writefile funcoes_valor.cpp\n",
        "#include <iostream>\n",
        "\n",
        "using namespace std;\n",
        "\n",
        "int sqr_it(int x); //assinatura da funcao\n",
        "\n",
        "int main(){\n",
        "  int t=10;\n",
        "  cout << sqr_it(t) << endl;\n",
        "  cout << \"valor de t = \" << t << endl;\n",
        "  return 0;\n",
        "}\n",
        "\n",
        "int sqr_it(int x){\n",
        "  x=x*x;\n",
        "  return x;\n",
        "}"
      ],
      "metadata": {
        "colab": {
          "base_uri": "https://localhost:8080/"
        },
        "id": "LqJZpuFU3tnN",
        "outputId": "d186b9c5-7151-491b-f3cc-beaa32eb9f88"
      },
      "execution_count": 5,
      "outputs": [
        {
          "output_type": "stream",
          "name": "stdout",
          "text": [
            "Overwriting funcoes_valor.cpp\n"
          ]
        }
      ]
    },
    {
      "cell_type": "code",
      "source": [
        "\n",
        "!g++ funcoes_valor.cpp -o funcoes_valor\n",
        "!./funcoes_valor"
      ],
      "metadata": {
        "colab": {
          "base_uri": "https://localhost:8080/"
        },
        "id": "GSRKwxlh3txQ",
        "outputId": "4b86fc5e-9169-420c-fc5c-216c19158839"
      },
      "execution_count": 6,
      "outputs": [
        {
          "output_type": "stream",
          "name": "stdout",
          "text": [
            "100\n",
            "valor de t = 10\n"
          ]
        }
      ]
    },
    {
      "cell_type": "code",
      "source": [
        "%%writefile funcoes_referencia.cpp\n",
        "#include <iostream>\n",
        "\n",
        "using namespace std;\n",
        "\n",
        "int sqr_it(int& x); //assinatura da funcao\n",
        "\n",
        "int main(){\n",
        "  int t=10;\n",
        "  cout << sqr_it(t) << endl;\n",
        "  cout << \"valor de t = \" << t << endl;\n",
        "  return 0;\n",
        "}\n",
        "\n",
        "// & indica a passagem por referencia\n",
        "int sqr_it(int& x){\n",
        "  x=x*x;\n",
        "  return x;\n",
        "}"
      ],
      "metadata": {
        "id": "hvT3PR4p6pNg",
        "outputId": "600af472-7bd3-4bac-dad3-8ce961229113",
        "colab": {
          "base_uri": "https://localhost:8080/"
        }
      },
      "execution_count": 7,
      "outputs": [
        {
          "output_type": "stream",
          "name": "stdout",
          "text": [
            "Writing funcoes_referencia.cpp\n"
          ]
        }
      ]
    },
    {
      "cell_type": "code",
      "source": [
        "\n",
        "!g++ funcoes_referencia.cpp -o funcoes_referencia\n",
        "!./funcoes_referencia"
      ],
      "metadata": {
        "id": "wHUHn7U4VwyP",
        "outputId": "dc7077a0-3b5c-485c-d811-5183e478dfed",
        "colab": {
          "base_uri": "https://localhost:8080/"
        }
      },
      "execution_count": 8,
      "outputs": [
        {
          "output_type": "stream",
          "name": "stdout",
          "text": [
            "100\n",
            "valor de t = 100\n"
          ]
        }
      ]
    },
    {
      "cell_type": "code",
      "source": [
        "%%writefile lacos.cpp\n",
        "#include <iostream>\n",
        "\n",
        "using namespace std;\n",
        "\n",
        "int main(){\n",
        "  // for (inicializacao; condicao; incremento/decremento){}\n",
        "  for (int i=1; i<=10; i++){\n",
        "    cout << i << \" \";\n",
        "  }\n",
        "\n",
        "\n",
        "  return 0;\n",
        "}\n"
      ],
      "metadata": {
        "id": "RzzpqyqTWdeJ",
        "outputId": "8e312a06-7588-49a7-bed0-1b6c41c5a352",
        "colab": {
          "base_uri": "https://localhost:8080/"
        }
      },
      "execution_count": 9,
      "outputs": [
        {
          "output_type": "stream",
          "name": "stdout",
          "text": [
            "Writing lacos.cpp\n"
          ]
        }
      ]
    },
    {
      "cell_type": "code",
      "source": [
        "\n",
        "!g++ lacos.cpp -o lacos\n",
        "!./lacos"
      ],
      "metadata": {
        "id": "iC_bDOgSXLZT",
        "outputId": "ca5f0b5c-96ab-447c-a609-b56312cf82d7",
        "colab": {
          "base_uri": "https://localhost:8080/"
        }
      },
      "execution_count": 10,
      "outputs": [
        {
          "output_type": "stream",
          "name": "stdout",
          "text": [
            "1 2 3 4 5 6 7 8 9 10 "
          ]
        }
      ]
    },
    {
      "cell_type": "code",
      "source": [
        "%%writefile lacos.cpp\n",
        "#include <iostream>\n",
        "#include <vector>\n",
        "\n",
        "using namespace std;\n",
        "\n",
        "\n",
        "\n",
        "int main(){\n",
        "\n",
        "  int t;\n",
        "  vector<int> v= {1, 2, 3, 4, -5};\n",
        "\n",
        "  // Imprimindo os valores do vetor\n",
        "  for (int i=0; i<v.size(); i++){\n",
        "    cout << v[i] << \" \";\n",
        "  }\n",
        "\n",
        "  return 0;\n",
        "}"
      ],
      "metadata": {
        "id": "B9D_PmylXeeR",
        "outputId": "034a25e3-d9cc-474f-c9cb-5f37f64524c8",
        "colab": {
          "base_uri": "https://localhost:8080/"
        }
      },
      "execution_count": 17,
      "outputs": [
        {
          "output_type": "stream",
          "name": "stdout",
          "text": [
            "Overwriting lacos.cpp\n"
          ]
        }
      ]
    },
    {
      "cell_type": "code",
      "source": [
        "!g++ lacos.cpp -o lacos\n",
        "!./lacos"
      ],
      "metadata": {
        "id": "jBG--IsMYOrf",
        "outputId": "2c0ec10b-006d-4959-9bf0-fcfee13bca9e",
        "colab": {
          "base_uri": "https://localhost:8080/"
        }
      },
      "execution_count": 18,
      "outputs": [
        {
          "output_type": "stream",
          "name": "stdout",
          "text": [
            "1 2 3 4 -5 "
          ]
        }
      ]
    },
    {
      "cell_type": "code",
      "source": [
        "%%writefile lacos.cpp\n",
        "#include <iostream>\n",
        "#include <vector>\n",
        "\n",
        "using namespace std;\n",
        "\n",
        "void imprimir(vector<int> vetor);//Construa o codigo dessa funcao e a chame no main\n",
        "void imprimir2(vector<int> vetor);\n",
        "void construir(vector<int>& vetor, int t);\n",
        "\n",
        "int main(){\n",
        "\n",
        "  int t;\n",
        "  vector<int> v;\n",
        "\n",
        "  cout << \"Digite o tamanho do vetor: \";\n",
        "  cin >> t;\n",
        "  construir(v, t);\n",
        "\n",
        "  imprimir(v);\n",
        "  imprimir2(v);\n",
        "\n",
        "   return 0;\n",
        "}\n",
        "\n",
        "  //Funcao que imprime um vetor\n",
        "  void imprimir(vector<int> vetor){\n",
        "    cout << \"Valoes do vetor: \";\n",
        "    for (int i=0; i<vetor.size(); i++){\n",
        "      cout << vetor[i] << \" \";\n",
        "  }\n",
        "    cout << \"\\n\";\n",
        "  }\n",
        "\n",
        " void imprimir2(vector<int> vetor){\n",
        "  cout << \"Valores do vetor: \";\n",
        "  for (int num : vetor){\n",
        "    cout << num << \" \";\n",
        "  }\n",
        "  cout << endl;\n",
        " }\n",
        "\n",
        " //Funcao que constroi um vetor de inteiros por referencia\n",
        " void construir(vector<int>& vetor, int t){\n",
        "  int x;\n",
        "  for (int i=0; i<t;i++){\n",
        "    cout << \"Digite um inteiro para a posicao\" << i << \": \";\n",
        "    cin >> x;\n",
        "    vetor.push_back(x);\n",
        "  }\n",
        " }\n"
      ],
      "metadata": {
        "id": "_-N7Jy-pYxoS",
        "outputId": "cc799547-c18a-4da4-cd61-42d1b27f0508",
        "colab": {
          "base_uri": "https://localhost:8080/"
        }
      },
      "execution_count": 30,
      "outputs": [
        {
          "output_type": "stream",
          "name": "stdout",
          "text": [
            "Overwriting lacos.cpp\n"
          ]
        }
      ]
    },
    {
      "cell_type": "code",
      "source": [
        "!g++ lacos.cpp -o lacos\n",
        "!./lacos"
      ],
      "metadata": {
        "id": "1HcA3MMjZfzc",
        "outputId": "cb446c56-3ae3-4566-8f4c-6709e48a217e",
        "colab": {
          "base_uri": "https://localhost:8080/"
        }
      },
      "execution_count": 31,
      "outputs": [
        {
          "output_type": "stream",
          "name": "stdout",
          "text": [
            "Digite o tamanho do vetor: 4\n",
            "Digite um inteiro para a posicao0: 3\n",
            "Digite um inteiro para a posicao1: 2\n",
            "Digite um inteiro para a posicao2: 0\n",
            "Digite um inteiro para a posicao3: 9\n",
            "Valoes do vetor: 3 2 0 9 \n",
            "Valores do vetor: 3 2 0 9 \n"
          ]
        }
      ]
    },
    {
      "cell_type": "code",
      "source": [
        "#Trabalhando com matrizes\n",
        "%%writefile matriz.cpp\n",
        "#include <iostream>\n",
        "#include <vector>\n",
        "\n",
        "using namespace std;\n",
        "\n",
        "int main(){\n",
        "\n",
        "\n",
        "  const int linhas =3;\n",
        "  const int colunas = 3;\n",
        "\n",
        "  // Instanciar uma matriz com todos os valores zerados\n",
        "  vector<vector<int>> matriz(linhas, vector<int>(colunas, 0));\n",
        "\n",
        "  //Preenchendo a matriz com valores informados pelo usuario\n",
        "for(int i=0; i<linhas; i++){\n",
        "  for (int j=0; j<colunas; j++){\n",
        "      cout << \"Digite o valor para a posicao [\" << i << \"][\" << j << \"]: \";\n",
        "      cin >> matriz[i][j] ;\n",
        "  }\n",
        "}\n",
        "\n",
        "  //Imprimindo a matriz\n",
        "  cout << \"Matriz:\\n\";\n",
        "  for (int i=0; i<linhas; i++){\n",
        "    for (int j=0; j<colunas; j++){\n",
        "      cout << matriz[i][j] << \" \";\n",
        "    }\n",
        "     cout << endl;\n",
        "  }\n",
        "\n",
        "  return 0;\n",
        "}\n",
        "\n",
        "\n"
      ],
      "metadata": {
        "id": "x4YXzfqQf2Kv",
        "outputId": "86c4b411-09d6-4d7c-c313-1a5bac64493b",
        "colab": {
          "base_uri": "https://localhost:8080/"
        }
      },
      "execution_count": 41,
      "outputs": [
        {
          "output_type": "stream",
          "name": "stdout",
          "text": [
            "Overwriting matriz.cpp\n"
          ]
        }
      ]
    },
    {
      "cell_type": "code",
      "source": [
        "!g++ matriz.cpp -o matriz\n",
        "!./matriz"
      ],
      "metadata": {
        "id": "f9IB58gDg0o6",
        "outputId": "1a8bf9ad-3947-47bc-c7c5-9d2ac8b48e26",
        "colab": {
          "base_uri": "https://localhost:8080/"
        }
      },
      "execution_count": 42,
      "outputs": [
        {
          "output_type": "stream",
          "name": "stdout",
          "text": [
            "Digite o valor para a posicao [0][0]: 12\n",
            "Digite o valor para a posicao [0][1]: 30\n",
            "Digite o valor para a posicao [0][2]: 22\n",
            "Digite o valor para a posicao [1][0]: 77\n",
            "Digite o valor para a posicao [1][1]: 99\n",
            "Digite o valor para a posicao [1][2]: 11\n",
            "Digite o valor para a posicao [2][0]: 20\n",
            "Digite o valor para a posicao [2][1]: 30\n",
            "Digite o valor para a posicao [2][2]: 30\n",
            "Matriz:\n",
            "12 30 22 \n",
            "77 99 11 \n",
            "20 30 30 \n"
          ]
        }
      ]
    },
    {
      "cell_type": "code",
      "source": [
        "#ARQUIVOS\n",
        "%%writefile arquivos.cpp\n",
        "#include <iostream>\n",
        "#include <fstream> //Biblioteca para trabalhar com arquivos\n",
        "\n",
        "using namespace std;\n",
        "\n",
        "int main(){\n",
        "  string nomeArquivo = \"exemplo.txt\";\n",
        "\n",
        "  // Abrir o arquivo para escrita\n",
        "  ofstream arq(nomeArquivo); //variavel chamada arq\n",
        "\n",
        "  // Verificando se o arquivo foi aberto com sucesso\n",
        "  if (!arq.is_open()){\n",
        "    cerr << \"Erro ao abrir o arquivo!\" << endl;\n",
        "    return 1;\n",
        "  }\n",
        "\n",
        "  //Escrevendo texto no arquivo\n",
        "  arq << \"Ola, este eh um exemplo de texto em arquivo!\" << endl;\n",
        "  arq << \"Mais uma linja no arquivo.\" << endl;\n",
        "  arq << \"Agora chega!\" << endl;\n",
        "\n",
        "  //Fechar o arquivoarq.close();\n",
        "\n",
        "  cout <<\"Arquivo gerado com suceso!\\n\";\n",
        "\n",
        "  //Stream para leitura de dados de um arquivo\n",
        "  ifstream meu_arquivo(\"exemplos.txt\");\n",
        "\n",
        "   // Verificando se o arquivo foi aberto com sucesso\n",
        "  if (!meu_arquivo.is_open()){\n",
        "    cerr << \"Erro ao abrir o arquivo!\" << endl;\n",
        "    return 1;\n",
        "  }\n",
        "\n",
        "  string linha;\n",
        "  while(getline(meu_arquivo, linha) ){\n",
        "    cout << linha << endl;\n",
        "  }\n",
        "\n",
        "  // Fecha o arquivo de leitura\n",
        "  meu_arquivo.close();\n",
        "\n",
        "  return 0;\n",
        "}"
      ],
      "metadata": {
        "id": "hqu3dqvLmR_b",
        "outputId": "0a5550f7-4110-417f-cb11-cc64d7c54465",
        "colab": {
          "base_uri": "https://localhost:8080/"
        }
      },
      "execution_count": 48,
      "outputs": [
        {
          "output_type": "stream",
          "name": "stdout",
          "text": [
            "Overwriting arquivos.cpp\n"
          ]
        }
      ]
    },
    {
      "cell_type": "code",
      "source": [
        "%%shell\n",
        "!g++ arquivos.cpp -o arquivos\n",
        "!./arquivos"
      ],
      "metadata": {
        "id": "9K8-JBDLo7xd",
        "outputId": "b19ce375-ea8f-492d-ff88-f062b050f596",
        "colab": {
          "base_uri": "https://localhost:8080/",
          "height": 390
        }
      },
      "execution_count": 50,
      "outputs": [
        {
          "output_type": "stream",
          "name": "stdout",
          "text": [
            "/bin/bash: line 1: !g++: command not found\n",
            "/bin/bash: line 2: !./arquivos: No such file or directory\n"
          ]
        },
        {
          "output_type": "error",
          "ename": "CalledProcessError",
          "evalue": "ignored",
          "traceback": [
            "\u001b[0;31m---------------------------------------------------------------------------\u001b[0m",
            "\u001b[0;31mCalledProcessError\u001b[0m                        Traceback (most recent call last)",
            "\u001b[0;32m<ipython-input-50-4595e3e4b5a2>\u001b[0m in \u001b[0;36m<cell line: 1>\u001b[0;34m()\u001b[0m\n\u001b[0;32m----> 1\u001b[0;31m \u001b[0mget_ipython\u001b[0m\u001b[0;34m(\u001b[0m\u001b[0;34m)\u001b[0m\u001b[0;34m.\u001b[0m\u001b[0mrun_cell_magic\u001b[0m\u001b[0;34m(\u001b[0m\u001b[0;34m'shell'\u001b[0m\u001b[0;34m,\u001b[0m \u001b[0;34m''\u001b[0m\u001b[0;34m,\u001b[0m \u001b[0;34m'!g++ arquivos.cpp -o arquivos\\n!./arquivos\\n'\u001b[0m\u001b[0;34m)\u001b[0m\u001b[0;34m\u001b[0m\u001b[0;34m\u001b[0m\u001b[0m\n\u001b[0m",
            "\u001b[0;32m/usr/local/lib/python3.10/dist-packages/google/colab/_shell.py\u001b[0m in \u001b[0;36mrun_cell_magic\u001b[0;34m(self, magic_name, line, cell)\u001b[0m\n\u001b[1;32m    332\u001b[0m     \u001b[0;32mif\u001b[0m \u001b[0mline\u001b[0m \u001b[0;32mand\u001b[0m \u001b[0;32mnot\u001b[0m \u001b[0mcell\u001b[0m\u001b[0;34m:\u001b[0m\u001b[0;34m\u001b[0m\u001b[0;34m\u001b[0m\u001b[0m\n\u001b[1;32m    333\u001b[0m       \u001b[0mcell\u001b[0m \u001b[0;34m=\u001b[0m \u001b[0;34m' '\u001b[0m\u001b[0;34m\u001b[0m\u001b[0;34m\u001b[0m\u001b[0m\n\u001b[0;32m--> 334\u001b[0;31m     \u001b[0;32mreturn\u001b[0m \u001b[0msuper\u001b[0m\u001b[0;34m(\u001b[0m\u001b[0;34m)\u001b[0m\u001b[0;34m.\u001b[0m\u001b[0mrun_cell_magic\u001b[0m\u001b[0;34m(\u001b[0m\u001b[0mmagic_name\u001b[0m\u001b[0;34m,\u001b[0m \u001b[0mline\u001b[0m\u001b[0;34m,\u001b[0m \u001b[0mcell\u001b[0m\u001b[0;34m)\u001b[0m\u001b[0;34m\u001b[0m\u001b[0;34m\u001b[0m\u001b[0m\n\u001b[0m\u001b[1;32m    335\u001b[0m \u001b[0;34m\u001b[0m\u001b[0m\n\u001b[1;32m    336\u001b[0m \u001b[0;34m\u001b[0m\u001b[0m\n",
            "\u001b[0;32m/usr/local/lib/python3.10/dist-packages/IPython/core/interactiveshell.py\u001b[0m in \u001b[0;36mrun_cell_magic\u001b[0;34m(self, magic_name, line, cell)\u001b[0m\n\u001b[1;32m   2471\u001b[0m             \u001b[0;32mwith\u001b[0m \u001b[0mself\u001b[0m\u001b[0;34m.\u001b[0m\u001b[0mbuiltin_trap\u001b[0m\u001b[0;34m:\u001b[0m\u001b[0;34m\u001b[0m\u001b[0;34m\u001b[0m\u001b[0m\n\u001b[1;32m   2472\u001b[0m                 \u001b[0margs\u001b[0m \u001b[0;34m=\u001b[0m \u001b[0;34m(\u001b[0m\u001b[0mmagic_arg_s\u001b[0m\u001b[0;34m,\u001b[0m \u001b[0mcell\u001b[0m\u001b[0;34m)\u001b[0m\u001b[0;34m\u001b[0m\u001b[0;34m\u001b[0m\u001b[0m\n\u001b[0;32m-> 2473\u001b[0;31m                 \u001b[0mresult\u001b[0m \u001b[0;34m=\u001b[0m \u001b[0mfn\u001b[0m\u001b[0;34m(\u001b[0m\u001b[0;34m*\u001b[0m\u001b[0margs\u001b[0m\u001b[0;34m,\u001b[0m \u001b[0;34m**\u001b[0m\u001b[0mkwargs\u001b[0m\u001b[0;34m)\u001b[0m\u001b[0;34m\u001b[0m\u001b[0;34m\u001b[0m\u001b[0m\n\u001b[0m\u001b[1;32m   2474\u001b[0m             \u001b[0;32mreturn\u001b[0m \u001b[0mresult\u001b[0m\u001b[0;34m\u001b[0m\u001b[0;34m\u001b[0m\u001b[0m\n\u001b[1;32m   2475\u001b[0m \u001b[0;34m\u001b[0m\u001b[0m\n",
            "\u001b[0;32m/usr/local/lib/python3.10/dist-packages/google/colab/_system_commands.py\u001b[0m in \u001b[0;36m_shell_cell_magic\u001b[0;34m(args, cmd)\u001b[0m\n\u001b[1;32m    110\u001b[0m   \u001b[0mresult\u001b[0m \u001b[0;34m=\u001b[0m \u001b[0m_run_command\u001b[0m\u001b[0;34m(\u001b[0m\u001b[0mcmd\u001b[0m\u001b[0;34m,\u001b[0m \u001b[0mclear_streamed_output\u001b[0m\u001b[0;34m=\u001b[0m\u001b[0;32mFalse\u001b[0m\u001b[0;34m)\u001b[0m\u001b[0;34m\u001b[0m\u001b[0;34m\u001b[0m\u001b[0m\n\u001b[1;32m    111\u001b[0m   \u001b[0;32mif\u001b[0m \u001b[0;32mnot\u001b[0m \u001b[0mparsed_args\u001b[0m\u001b[0;34m.\u001b[0m\u001b[0mignore_errors\u001b[0m\u001b[0;34m:\u001b[0m\u001b[0;34m\u001b[0m\u001b[0;34m\u001b[0m\u001b[0m\n\u001b[0;32m--> 112\u001b[0;31m     \u001b[0mresult\u001b[0m\u001b[0;34m.\u001b[0m\u001b[0mcheck_returncode\u001b[0m\u001b[0;34m(\u001b[0m\u001b[0;34m)\u001b[0m\u001b[0;34m\u001b[0m\u001b[0;34m\u001b[0m\u001b[0m\n\u001b[0m\u001b[1;32m    113\u001b[0m   \u001b[0;32mreturn\u001b[0m \u001b[0mresult\u001b[0m\u001b[0;34m\u001b[0m\u001b[0;34m\u001b[0m\u001b[0m\n\u001b[1;32m    114\u001b[0m \u001b[0;34m\u001b[0m\u001b[0m\n",
            "\u001b[0;32m/usr/local/lib/python3.10/dist-packages/google/colab/_system_commands.py\u001b[0m in \u001b[0;36mcheck_returncode\u001b[0;34m(self)\u001b[0m\n\u001b[1;32m    135\u001b[0m   \u001b[0;32mdef\u001b[0m \u001b[0mcheck_returncode\u001b[0m\u001b[0;34m(\u001b[0m\u001b[0mself\u001b[0m\u001b[0;34m)\u001b[0m\u001b[0;34m:\u001b[0m\u001b[0;34m\u001b[0m\u001b[0;34m\u001b[0m\u001b[0m\n\u001b[1;32m    136\u001b[0m     \u001b[0;32mif\u001b[0m \u001b[0mself\u001b[0m\u001b[0;34m.\u001b[0m\u001b[0mreturncode\u001b[0m\u001b[0;34m:\u001b[0m\u001b[0;34m\u001b[0m\u001b[0;34m\u001b[0m\u001b[0m\n\u001b[0;32m--> 137\u001b[0;31m       raise subprocess.CalledProcessError(\n\u001b[0m\u001b[1;32m    138\u001b[0m           \u001b[0mreturncode\u001b[0m\u001b[0;34m=\u001b[0m\u001b[0mself\u001b[0m\u001b[0;34m.\u001b[0m\u001b[0mreturncode\u001b[0m\u001b[0;34m,\u001b[0m \u001b[0mcmd\u001b[0m\u001b[0;34m=\u001b[0m\u001b[0mself\u001b[0m\u001b[0;34m.\u001b[0m\u001b[0margs\u001b[0m\u001b[0;34m,\u001b[0m \u001b[0moutput\u001b[0m\u001b[0;34m=\u001b[0m\u001b[0mself\u001b[0m\u001b[0;34m.\u001b[0m\u001b[0moutput\u001b[0m\u001b[0;34m\u001b[0m\u001b[0;34m\u001b[0m\u001b[0m\n\u001b[1;32m    139\u001b[0m       )\n",
            "\u001b[0;31mCalledProcessError\u001b[0m: Command '!g++ arquivos.cpp -o arquivos\n!./arquivos\n' returned non-zero exit status 127."
          ]
        }
      ]
    }
  ]
}