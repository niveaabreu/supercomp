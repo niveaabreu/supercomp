{
  "nbformat": 4,
  "nbformat_minor": 0,
  "metadata": {
    "colab": {
      "provenance": [],
      "authorship_tag": "ABX9TyP/NKBRWcyCrIH0iA2H79po"
    },
    "kernelspec": {
      "name": "python3",
      "display_name": "Python 3"
    },
    "language_info": {
      "name": "python"
    }
  },
  "cells": [
    {
      "cell_type": "code",
      "execution_count": 1,
      "metadata": {
        "id": "8TEAr38qqoRV",
        "outputId": "bad47f2a-4dad-4b4a-8828-f278a176b737",
        "colab": {
          "base_uri": "https://localhost:8080/"
        }
      },
      "outputs": [
        {
          "output_type": "stream",
          "name": "stdout",
          "text": [
            "Cloning into 'supercomp'...\n",
            "remote: Enumerating objects: 195, done.\u001b[K\n",
            "remote: Counting objects: 100% (195/195), done.\u001b[K\n",
            "remote: Compressing objects: 100% (155/155), done.\u001b[K\n",
            "remote: Total 195 (delta 4), reused 142 (delta 3), pack-reused 0\u001b[K\n",
            "Receiving objects: 100% (195/195), 26.13 MiB | 23.49 MiB/s, done.\n",
            "Resolving deltas: 100% (4/4), done.\n",
            "Already on 'master'\n",
            "Your branch is up to date with 'origin/master'.\n"
          ]
        }
      ],
      "source": [
        "!rm -rf supercomp\n",
        "!rm -rf 02-03-implementacao-c++\n",
        "!git clone --depth 1 --branch master --no-checkout https://github.com/niveaabreu/supercomp.git\n",
        "!cd supercomp&&git sparse-checkout set material/aulas/02-03-implementacao-c++/\n",
        "!cd supercomp&&git checkout master\n",
        "#!mv supercomp/material/aulas/01-introducao/entradas-busca-local .\n",
        "!mv supercomp/material/aulas/02-03-implementacao-c++//* .\n",
        "!rm -rf supercomp"
      ]
    },
    {
      "cell_type": "code",
      "source": [],
      "metadata": {
        "id": "FP_ZCKMcsCF1"
      },
      "execution_count": null,
      "outputs": []
    }
  ]
}