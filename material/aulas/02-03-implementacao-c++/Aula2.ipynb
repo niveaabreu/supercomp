{
  "nbformat": 4,
  "nbformat_minor": 0,
  "metadata": {
    "colab": {
      "provenance": [],
      "authorship_tag": "ABX9TyND9+Fl7QlKdxYFR0vKnmaO"
    },
    "kernelspec": {
      "name": "python3",
      "display_name": "Python 3"
    },
    "language_info": {
      "name": "python"
    }
  },
  "cells": [
    {
      "cell_type": "code",
      "execution_count": null,
      "metadata": {
        "id": "8TEAr38qqoRV"
      },
      "outputs": [],
      "source": []
    }
  ]
}