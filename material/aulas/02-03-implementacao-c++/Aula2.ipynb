{
  "nbformat": 4,
  "nbformat_minor": 0,
  "metadata": {
    "colab": {
      "provenance": [],
      "authorship_tag": "ABX9TyM3RoX7tUa/Jxc4uPUkeI2G"
    },
    "kernelspec": {
      "name": "python3",
      "display_name": "Python 3"
    },
    "language_info": {
      "name": "python"
    }
  },
  "cells": [
    {
      "cell_type": "code",
      "execution_count": 1,
      "metadata": {
        "id": "8TEAr38qqoRV",
        "outputId": "b9b2a432-721d-43bb-fdab-547d1f3a5fc5",
        "colab": {
          "base_uri": "https://localhost:8080/"
        }
      },
      "outputs": [
        {
          "output_type": "stream",
          "name": "stdout",
          "text": [
            "Cloning into 'supercomp'...\n",
            "remote: Enumerating objects: 196, done.\u001b[K\n",
            "remote: Counting objects: 100% (196/196), done.\u001b[K\n",
            "remote: Compressing objects: 100% (156/156), done.\u001b[K\n",
            "remote: Total 196 (delta 4), reused 142 (delta 3), pack-reused 0\u001b[K\n",
            "Receiving objects: 100% (196/196), 26.13 MiB | 25.65 MiB/s, done.\n",
            "Resolving deltas: 100% (4/4), done.\n",
            "Already on 'master'\n",
            "Your branch is up to date with 'origin/master'.\n"
          ]
        }
      ],
      "source": [
        "!rm -rf supercomp\n",
        "!rm -rf 02-03-implementacao-c++\n",
        "!git clone --depth 1 --branch master --no-checkout https://github.com/niveaabreu/supercomp.git\n",
        "!cd supercomp&&git sparse-checkout set material/aulas/02-03-implementacao-c++/\n",
        "!cd supercomp&&git checkout master\n",
        "#!mv supercomp/material/aulas/01-introducao/entradas-busca-local .\n",
        "!mv supercomp/material/aulas/02-03-implementacao-c++//* .\n",
        "!rm -rf supercomp"
      ]
    },
    {
      "cell_type": "code",
      "source": [
        "%%writefile hello.cpp\n",
        "\n",
        "#include <iostream>\n",
        "int main(){\n",
        "  std::cout << \"Hello World\\n\";\n",
        "  return 0;\n",
        "}"
      ],
      "metadata": {
        "id": "FP_ZCKMcsCF1",
        "outputId": "7ed4570e-b419-43a6-b6b1-c22d6cdff0ca",
        "colab": {
          "base_uri": "https://localhost:8080/"
        }
      },
      "execution_count": 4,
      "outputs": [
        {
          "output_type": "stream",
          "name": "stdout",
          "text": [
            "Overwriting hello.cpp\n"
          ]
        }
      ]
    },
    {
      "cell_type": "code",
      "source": [
        "!g++ hello.cpp -o hello\n",
        "!./hello"
      ],
      "metadata": {
        "id": "lmAj1OCCVsoh",
        "outputId": "5abce8ba-1ff2-466b-899a-f38570ffc4c8",
        "colab": {
          "base_uri": "https://localhost:8080/"
        }
      },
      "execution_count": 5,
      "outputs": [
        {
          "output_type": "stream",
          "name": "stdout",
          "text": [
            "Hello World\n"
          ]
        }
      ]
    },
    {
      "cell_type": "code",
      "source": [
        "#celula de escrita do codigo\n",
        "%%writefile estrutura.cpp\n",
        "\n",
        "#include <iostream>\n",
        "\n",
        "int main(int argc, char *argv[]){\n",
        "  std::cout << \"Ola, \" << argv[1] <<  \"!\\n\";\n",
        "\n",
        "  return 0;\n",
        "}"
      ],
      "metadata": {
        "id": "EyWxFK1gV3Jo",
        "outputId": "d5d81077-1c3b-4da2-ad93-0849eab78191",
        "colab": {
          "base_uri": "https://localhost:8080/"
        }
      },
      "execution_count": 15,
      "outputs": [
        {
          "output_type": "stream",
          "name": "stdout",
          "text": [
            "Overwriting estrutura.cpp\n"
          ]
        }
      ]
    },
    {
      "cell_type": "code",
      "source": [
        "!ls"
      ],
      "metadata": {
        "id": "AtzpNUHjlltO",
        "outputId": "8c31804d-b249-4fa3-ab90-cdce35c5ea68",
        "colab": {
          "base_uri": "https://localhost:8080/"
        }
      },
      "execution_count": 9,
      "outputs": [
        {
          "output_type": "stream",
          "name": "stdout",
          "text": [
            "Aula2.ipynb    index.md     t6-in-0.txt  t6-in-4.txt   t6-out-3.txt\n",
            "estrutura.cpp  sample_data  t6-in-1.txt  t6-out-0.txt  t6-out-4.txt\n",
            "hello\t       slides.pdf   t6-in-2.txt  t6-out-1.txt  t6.py\n",
            "hello.cpp      t4.py\t    t6-in-3.txt  t6-out-2.txt\n"
          ]
        }
      ]
    },
    {
      "cell_type": "code",
      "source": [
        "#Compilar o codigo\n",
        "!g++ -g estrutura.cpp -o estrutura"
      ],
      "metadata": {
        "id": "ZHYqLfiOmJds"
      },
      "execution_count": 16,
      "outputs": []
    },
    {
      "cell_type": "code",
      "source": [
        "# Roda o executavel\n",
        "!./estrutura \"insper\""
      ],
      "metadata": {
        "id": "JOENQlJRmZxM",
        "outputId": "3431e0f0-94fb-4896-a801-0e34576d1fc9",
        "colab": {
          "base_uri": "https://localhost:8080/"
        }
      },
      "execution_count": 17,
      "outputs": [
        {
          "output_type": "stream",
          "name": "stdout",
          "text": [
            "Ola, insper!\n"
          ]
        }
      ]
    },
    {
      "cell_type": "code",
      "source": [
        "%%writefile variaveis.cpp\n",
        "\n",
        "#include <iostream>\n",
        "#include <string>\n",
        "\n",
        "using namespace std;\n",
        "\n",
        "int main(){\n",
        "\n",
        " //Define a variavel x\n",
        " int x;\n",
        " cout << \"Entre com um numero: \";\n",
        " cin >> x;\n",
        "\n",
        " cout << \"Voce digitou o valor: \" << x << \"\\n\";\n",
        "\n",
        " int y;\n",
        " string s;\n",
        " y=2*x;\n",
        " x=y*5;\n",
        " cout << \"x = \" << x << endl;\n",
        " cout << \"y = \" << y << endl;\n",
        " cout << \"Digite uma string: \";\n",
        " cin >> s;\n",
        " cout << \"Voce digitou \" << s << endl;\n",
        "\n",
        "  return 0;\n",
        "}\n"
      ],
      "metadata": {
        "id": "8W9ObjhMn1rf",
        "outputId": "830e1fd8-e22c-40c8-87a6-efe7fb4a3863",
        "colab": {
          "base_uri": "https://localhost:8080/"
        }
      },
      "execution_count": 23,
      "outputs": [
        {
          "output_type": "stream",
          "name": "stdout",
          "text": [
            "Overwriting variaveis.cpp\n"
          ]
        }
      ]
    },
    {
      "cell_type": "code",
      "source": [
        "%%shell\n",
        "g++ variaveis.cpp -o variaveis\n",
        "./variaveis"
      ],
      "metadata": {
        "id": "mGqjfu4vre8t",
        "outputId": "d611db56-dc38-461f-99b1-ff85ba3e24fe",
        "colab": {
          "base_uri": "https://localhost:8080/"
        }
      },
      "execution_count": 24,
      "outputs": [
        {
          "output_type": "stream",
          "name": "stdout",
          "text": [
            "Entre com um numero: 9\n",
            "Voce digitou o valor: 9\n",
            "x = 90\n",
            "y = 18\n",
            "Digite uma string: nivea\n",
            "Voce digitou nivea\n"
          ]
        },
        {
          "output_type": "execute_result",
          "data": {
            "text/plain": []
          },
          "metadata": {},
          "execution_count": 24
        }
      ]
    },
    {
      "cell_type": "code",
      "source": [
        "%%writefile condicionais.cpp\n",
        "\n",
        "#include <iostream>\n",
        "\n",
        "using namespace std;\n",
        "\n",
        "int main(){\n",
        "  int x;\n",
        "  cout << \"Entre com um numero: \";\n",
        "  cin >> x;\n",
        "\n",
        "  if (!cin) {\n",
        "    cout << \"Voce nao digitou u numero:\\n\";\n",
        "    return 1;\n",
        "  }\n",
        "\n",
        "  int y;\n",
        "  cout << \"Entre com outro numero: \";\n",
        "  cin >>y;\n",
        "\n",
        "  if(x<y){\n",
        "    cout << \"O primeiro numero eh MENOR que o segundo\\n\";\n",
        "  }else if (x==y){\n",
        "    cout << \"Os numeros sao IGUAIS!\\n\";\n",
        "  }else{\n",
        "    cout << \"O primeiro numero eh MAIOR que o segundo\\n\";\n",
        "  }\n",
        "\n",
        "  cout << \"Digite 2 numeros: \";\n",
        "  cin >> x >> y;\n",
        "  cout << \"x = \" << x << endl;\n",
        "  cout << \"y = \" << y <<endl;\n",
        "  return 0;\n",
        "\n",
        "\n",
        "\n",
        "\n",
        "  return 0;\n",
        "}\n",
        "\n",
        "\n"
      ],
      "metadata": {
        "id": "u0bcFCcYus0i",
        "outputId": "c969f98e-20bb-470f-d078-186a2c7ad166",
        "colab": {
          "base_uri": "https://localhost:8080/"
        }
      },
      "execution_count": 37,
      "outputs": [
        {
          "output_type": "stream",
          "name": "stdout",
          "text": [
            "Overwriting condicionais.cpp\n"
          ]
        }
      ]
    },
    {
      "cell_type": "code",
      "source": [
        "%%shell\n",
        "g++ condicionais.cpp -o condicionais\n",
        "./condicionais"
      ],
      "metadata": {
        "id": "6mpJ7Rtis8su",
        "outputId": "7169c9d4-72ce-4864-b9ba-1c0d0cf39816",
        "colab": {
          "base_uri": "https://localhost:8080/"
        }
      },
      "execution_count": 38,
      "outputs": [
        {
          "output_type": "stream",
          "name": "stdout",
          "text": [
            "Entre com um numero: 40\n",
            "Entre com outro numero: 45\n",
            "O primeiro numero eh MENOR que o segundo\n",
            "Digite 2 numeros: 4 0\n",
            "x = 4\n",
            "y = 0\n"
          ]
        },
        {
          "output_type": "execute_result",
          "data": {
            "text/plain": []
          },
          "metadata": {},
          "execution_count": 38
        }
      ]
    },
    {
      "cell_type": "code",
      "source": [
        "%%writefile lacos.cpp\n",
        "#include <iostream>\n",
        "#include <vector>\n",
        "using namespace std;\n",
        "\n",
        "int main(){\n",
        "  int w[]={1,2,3};\n",
        "  cout << w[0] << endl;\n",
        "\n",
        "  int x;\n",
        "  vector<int>v;\n",
        "  cout << \"Entre quantos numeros desejar: \" << endl;\n",
        "  while(cin >> x) {\n",
        "    v.push_back(x);\n",
        "  }\n",
        "\n",
        "  cout << \"Voce inseriu \" << v.size() << \" elementos no vetor\" <<endl;\n",
        "\n",
        "  return 0;\n",
        "}"
      ],
      "metadata": {
        "id": "UswAh9cL0jHC",
        "outputId": "df5ce057-ecb7-4a25-fe31-84485eee137a",
        "colab": {
          "base_uri": "https://localhost:8080/"
        }
      },
      "execution_count": 45,
      "outputs": [
        {
          "output_type": "stream",
          "name": "stdout",
          "text": [
            "Overwriting lacos.cpp\n"
          ]
        }
      ]
    },
    {
      "cell_type": "code",
      "source": [
        "%%shell\n",
        "g++ lacos.cpp -o lacos\n",
        "./lacos"
      ],
      "metadata": {
        "id": "XQr9aP4r2KgX",
        "outputId": "77a72923-e7e4-42ee-b158-8329945a0cbd",
        "colab": {
          "base_uri": "https://localhost:8080/"
        }
      },
      "execution_count": 46,
      "outputs": [
        {
          "output_type": "stream",
          "name": "stdout",
          "text": [
            "1\n",
            "Entre quantos numeros desejar: \n",
            "5\n",
            "x\n",
            "Voce inseriu 1 elementos no vetor\n"
          ]
        },
        {
          "output_type": "execute_result",
          "data": {
            "text/plain": []
          },
          "metadata": {},
          "execution_count": 46
        }
      ]
    },
    {
      "cell_type": "code",
      "source": [
        "%%writefile funcoes_valor.cpp\n",
        "#include <iostream>\n",
        "\n",
        "using namespace std;\n",
        "\n",
        "int sqr_it(int x); //assinatura da funcao\n",
        "\n",
        "int main(){\n",
        "  int t=10;\n",
        "  cout << sqr_it(t) << endl;\n",
        "  cout << \"valor de t = \" << t << endl;\n",
        "  return 0;\n",
        "}\n",
        "\n",
        "int sqr_it(int x){\n",
        "  x=x*x;\n",
        "  return x;\n",
        "}"
      ],
      "metadata": {
        "id": "LqJZpuFU3tnN",
        "outputId": "f01b4431-7a1f-4c9d-8dbd-7e16b3098b7b",
        "colab": {
          "base_uri": "https://localhost:8080/"
        }
      },
      "execution_count": 47,
      "outputs": [
        {
          "output_type": "stream",
          "name": "stdout",
          "text": [
            "Writing funcoes_valor.cpp\n"
          ]
        }
      ]
    },
    {
      "cell_type": "code",
      "source": [
        "\n",
        "!g++ funcoes_valor.cpp -o funcoes_valor\n",
        "!./funcoes_valor"
      ],
      "metadata": {
        "id": "GSRKwxlh3txQ",
        "outputId": "bd4de8bf-8b94-4920-d487-c95d2a49758e",
        "colab": {
          "base_uri": "https://localhost:8080/"
        }
      },
      "execution_count": 51,
      "outputs": [
        {
          "output_type": "stream",
          "name": "stdout",
          "text": [
            "100\n",
            "valor de t = 10\n"
          ]
        }
      ]
    },
    {
      "cell_type": "code",
      "source": [],
      "metadata": {
        "id": "hvT3PR4p6pNg"
      },
      "execution_count": null,
      "outputs": []
    }
  ]
}