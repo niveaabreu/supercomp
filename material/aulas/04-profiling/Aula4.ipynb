{
  "nbformat": 4,
  "nbformat_minor": 0,
  "metadata": {
    "colab": {
      "provenance": [],
      "authorship_tag": "ABX9TyOb46S743SvG4k5V5mIoWHU"
    },
    "kernelspec": {
      "name": "python3",
      "display_name": "Python 3"
    },
    "language_info": {
      "name": "python"
    }
  },
  "cells": [
    {
      "cell_type": "code",
      "source": [
        "%%writefile sum.cpp\n",
        "#include<iostream>\n",
        "#include<algorithm>\n",
        "using namespace std;\n",
        "\n",
        "constexpr int M = 2048;\n",
        "constexpr int N = 2048;\n",
        "\n",
        "double naive_sum(const double a[][N]){\n",
        "    double sum = 0.0;\n",
        "    for(int j = 0; j < N; ++j) {\n",
        "        for(int i = 0; i < M; ++i)\n",
        "            sum += a[i][j];\n",
        "    }\n",
        "    return sum;\n",
        "}\n",
        "\n",
        "double improved_sum(const double a[][N]) {\n",
        "    double sum = 0.0;\n",
        "    for(int i = 0; i < M; ++i)\n",
        "        for(int j = 0; j < N; ++j)\n",
        "            sum +=a[i][j];\n",
        "    return sum;\n",
        "}\n",
        "\n",
        "int main() {\n",
        "    static double a[M][N];\n",
        "    fill_n(&a[0][0], M*N, 1.0 / (M*N));\n",
        "    cout << naive_sum(a) << endl;\n",
        "    static double b[M][N];\n",
        "    fill_n(&b[0][0], M*N, 1.0 / (M*N));\n",
        "    cout << improved_sum(b) << endl;\n",
        "    return 0;\n",
        "}"
      ],
      "metadata": {
        "id": "H14kszm9proR",
        "outputId": "801a6062-9b6c-41b7-b12b-a62472d15d7d",
        "colab": {
          "base_uri": "https://localhost:8080/"
        }
      },
      "execution_count": 1,
      "outputs": [
        {
          "output_type": "stream",
          "name": "stdout",
          "text": [
            "Writing sum.cpp\n"
          ]
        }
      ]
    },
    {
      "cell_type": "code",
      "source": [
        "!g++ -Wall -O3 -g sum.cpp -o sum\n"
      ],
      "metadata": {
        "id": "3k9KzkCtp5WO"
      },
      "execution_count": 2,
      "outputs": []
    },
    {
      "cell_type": "code",
      "source": [
        "!apt-get install valgrind"
      ],
      "metadata": {
        "id": "R3d93V03qXlb",
        "outputId": "fdf51a0a-406c-4480-d56e-347346ef1916",
        "colab": {
          "base_uri": "https://localhost:8080/"
        }
      },
      "execution_count": 3,
      "outputs": [
        {
          "output_type": "stream",
          "name": "stdout",
          "text": [
            "Reading package lists... Done\n",
            "Building dependency tree... Done\n",
            "Reading state information... Done\n",
            "The following additional packages will be installed:\n",
            "  gdb libbabeltrace1 libc6-dbg libdebuginfod-common libdebuginfod1 libipt2\n",
            "  libsource-highlight-common libsource-highlight4v5\n",
            "Suggested packages:\n",
            "  gdb-doc gdbserver valgrind-dbg valgrind-mpi kcachegrind alleyoop valkyrie\n",
            "The following NEW packages will be installed:\n",
            "  gdb libbabeltrace1 libc6-dbg libdebuginfod-common libdebuginfod1 libipt2\n",
            "  libsource-highlight-common libsource-highlight4v5 valgrind\n",
            "0 upgraded, 9 newly installed, 0 to remove and 18 not upgraded.\n",
            "Need to get 32.4 MB of archives.\n",
            "After this operation, 111 MB of additional disk space will be used.\n",
            "Get:1 http://archive.ubuntu.com/ubuntu jammy/main amd64 libdebuginfod-common all 0.186-1build1 [7,878 B]\n",
            "Get:2 http://archive.ubuntu.com/ubuntu jammy/main amd64 libbabeltrace1 amd64 1.5.8-2build1 [160 kB]\n",
            "Get:3 http://archive.ubuntu.com/ubuntu jammy/main amd64 libdebuginfod1 amd64 0.186-1build1 [12.7 kB]\n",
            "Get:4 http://archive.ubuntu.com/ubuntu jammy/main amd64 libipt2 amd64 2.0.5-1 [46.4 kB]\n",
            "Get:5 http://archive.ubuntu.com/ubuntu jammy/main amd64 libsource-highlight-common all 3.1.9-4.1build2 [64.5 kB]\n",
            "Get:6 http://archive.ubuntu.com/ubuntu jammy/main amd64 libsource-highlight4v5 amd64 3.1.9-4.1build2 [207 kB]\n",
            "Get:7 http://archive.ubuntu.com/ubuntu jammy-updates/main amd64 gdb amd64 12.1-0ubuntu1~22.04 [3,919 kB]\n",
            "Get:8 http://archive.ubuntu.com/ubuntu jammy-updates/main amd64 libc6-dbg amd64 2.35-0ubuntu3.4 [13.9 MB]\n",
            "Get:9 http://archive.ubuntu.com/ubuntu jammy/main amd64 valgrind amd64 1:3.18.1-1ubuntu2 [14.1 MB]\n",
            "Fetched 32.4 MB in 0s (104 MB/s)\n",
            "Preconfiguring packages ...\n",
            "Selecting previously unselected package libdebuginfod-common.\n",
            "(Reading database ... 120875 files and directories currently installed.)\n",
            "Preparing to unpack .../0-libdebuginfod-common_0.186-1build1_all.deb ...\n",
            "Unpacking libdebuginfod-common (0.186-1build1) ...\n",
            "Selecting previously unselected package libbabeltrace1:amd64.\n",
            "Preparing to unpack .../1-libbabeltrace1_1.5.8-2build1_amd64.deb ...\n",
            "Unpacking libbabeltrace1:amd64 (1.5.8-2build1) ...\n",
            "Selecting previously unselected package libdebuginfod1:amd64.\n",
            "Preparing to unpack .../2-libdebuginfod1_0.186-1build1_amd64.deb ...\n",
            "Unpacking libdebuginfod1:amd64 (0.186-1build1) ...\n",
            "Selecting previously unselected package libipt2.\n",
            "Preparing to unpack .../3-libipt2_2.0.5-1_amd64.deb ...\n",
            "Unpacking libipt2 (2.0.5-1) ...\n",
            "Selecting previously unselected package libsource-highlight-common.\n",
            "Preparing to unpack .../4-libsource-highlight-common_3.1.9-4.1build2_all.deb ...\n",
            "Unpacking libsource-highlight-common (3.1.9-4.1build2) ...\n",
            "Selecting previously unselected package libsource-highlight4v5.\n",
            "Preparing to unpack .../5-libsource-highlight4v5_3.1.9-4.1build2_amd64.deb ...\n",
            "Unpacking libsource-highlight4v5 (3.1.9-4.1build2) ...\n",
            "Selecting previously unselected package gdb.\n",
            "Preparing to unpack .../6-gdb_12.1-0ubuntu1~22.04_amd64.deb ...\n",
            "Unpacking gdb (12.1-0ubuntu1~22.04) ...\n",
            "Selecting previously unselected package libc6-dbg:amd64.\n",
            "Preparing to unpack .../7-libc6-dbg_2.35-0ubuntu3.4_amd64.deb ...\n",
            "Unpacking libc6-dbg:amd64 (2.35-0ubuntu3.4) ...\n",
            "Selecting previously unselected package valgrind.\n",
            "Preparing to unpack .../8-valgrind_1%3a3.18.1-1ubuntu2_amd64.deb ...\n",
            "Unpacking valgrind (1:3.18.1-1ubuntu2) ...\n",
            "Setting up libdebuginfod-common (0.186-1build1) ...\n",
            "\n",
            "Creating config file /etc/profile.d/debuginfod.sh with new version\n",
            "\n",
            "Creating config file /etc/profile.d/debuginfod.csh with new version\n",
            "Setting up libdebuginfod1:amd64 (0.186-1build1) ...\n",
            "Setting up libsource-highlight-common (3.1.9-4.1build2) ...\n",
            "Setting up libc6-dbg:amd64 (2.35-0ubuntu3.4) ...\n",
            "Setting up libipt2 (2.0.5-1) ...\n",
            "Setting up libbabeltrace1:amd64 (1.5.8-2build1) ...\n",
            "Setting up valgrind (1:3.18.1-1ubuntu2) ...\n",
            "Setting up libsource-highlight4v5 (3.1.9-4.1build2) ...\n",
            "Setting up gdb (12.1-0ubuntu1~22.04) ...\n",
            "Processing triggers for man-db (2.10.2-1) ...\n",
            "Processing triggers for libc-bin (2.35-0ubuntu3.1) ...\n",
            "/sbin/ldconfig.real: /usr/local/lib/libtbbmalloc.so.2 is not a symbolic link\n",
            "\n",
            "/sbin/ldconfig.real: /usr/local/lib/libtbbmalloc_proxy.so.2 is not a symbolic link\n",
            "\n",
            "/sbin/ldconfig.real: /usr/local/lib/libtbbbind_2_0.so.3 is not a symbolic link\n",
            "\n",
            "/sbin/ldconfig.real: /usr/local/lib/libtbbbind_2_5.so.3 is not a symbolic link\n",
            "\n",
            "/sbin/ldconfig.real: /usr/local/lib/libtbbbind.so.3 is not a symbolic link\n",
            "\n",
            "/sbin/ldconfig.real: /usr/local/lib/libtbb.so.12 is not a symbolic link\n",
            "\n"
          ]
        }
      ]
    },
    {
      "cell_type": "code",
      "source": [
        "!valgrind --tool=callgrind ./sum"
      ],
      "metadata": {
        "id": "YQreI0LUrbVV",
        "outputId": "84f752b5-ec74-49a8-aae9-91d0bf2c1b12",
        "colab": {
          "base_uri": "https://localhost:8080/"
        }
      },
      "execution_count": 4,
      "outputs": [
        {
          "output_type": "stream",
          "name": "stdout",
          "text": [
            "==1801== Callgrind, a call-graph generating cache profiler\n",
            "==1801== Copyright (C) 2002-2017, and GNU GPL'd, by Josef Weidendorfer et al.\n",
            "==1801== Using Valgrind-3.18.1 and LibVEX; rerun with -h for copyright info\n",
            "==1801== Command: ./sum\n",
            "==1801== \n",
            "==1801== For interactive control, run 'callgrind_control -h'.\n",
            "1\n",
            "1\n",
            "==1801== \n",
            "==1801== Events    : Ir\n",
            "==1801== Collected : 50580996\n",
            "==1801== \n",
            "==1801== I   refs:      50,580,996\n"
          ]
        }
      ]
    },
    {
      "cell_type": "code",
      "source": [
        "!ls\n"
      ],
      "metadata": {
        "id": "ZM0aoBC7rlOT",
        "outputId": "fbba1f24-ee96-43fc-ede2-b81448accd28",
        "colab": {
          "base_uri": "https://localhost:8080/"
        }
      },
      "execution_count": 5,
      "outputs": [
        {
          "output_type": "stream",
          "name": "stdout",
          "text": [
            "callgrind.out.1801  sample_data  sum  sum.cpp\n"
          ]
        }
      ]
    },
    {
      "cell_type": "code",
      "source": [
        "!callgrind_annotate callgrind.out.1801 sum.cpp"
      ],
      "metadata": {
        "id": "R9Xbv_zhs2RN",
        "outputId": "76ec0a66-d302-40f0-a25a-0a119a1f473e",
        "colab": {
          "base_uri": "https://localhost:8080/"
        }
      },
      "execution_count": 6,
      "outputs": [
        {
          "output_type": "stream",
          "name": "stdout",
          "text": [
            "--------------------------------------------------------------------------------\n",
            "Profile data file 'callgrind.out.1801' (creator: callgrind-3.18.1)\n",
            "--------------------------------------------------------------------------------\n",
            "I1 cache: \n",
            "D1 cache: \n",
            "LL cache: \n",
            "Timerange: Basic block 0 - 10864277\n",
            "Trigger: Program termination\n",
            "Profiled target:  ./sum (PID 1801, part 1)\n",
            "Events recorded:  Ir\n",
            "Events shown:     Ir\n",
            "Event sort order: Ir\n",
            "Thresholds:       99\n",
            "Include dirs:     \n",
            "User annotated:   sum.cpp\n",
            "Auto-annotation:  on\n",
            "\n",
            "--------------------------------------------------------------------------------\n",
            "Ir                  \n",
            "--------------------------------------------------------------------------------\n",
            "50,580,996 (100.0%)  PROGRAM TOTALS\n",
            "\n",
            "--------------------------------------------------------------------------------\n",
            "Ir                   file:function\n",
            "--------------------------------------------------------------------------------\n",
            "31,475,723 (62.23%)  sum.cpp:main [/content/sum]\n",
            "16,777,220 (33.17%)  /usr/include/c++/11/bits/stl_algobase.h:main\n",
            "   975,890 ( 1.93%)  ./elf/./elf/dl-lookup.c:_dl_lookup_symbol_x [/usr/lib/x86_64-linux-gnu/ld-linux-x86-64.so.2]\n",
            "   557,764 ( 1.10%)  ./elf/./elf/dl-lookup.c:do_lookup_x [/usr/lib/x86_64-linux-gnu/ld-linux-x86-64.so.2]\n",
            "   259,006 ( 0.51%)  ./elf/../sysdeps/x86_64/dl-machine.h:_dl_relocate_object\n",
            "   117,512 ( 0.23%)  ./elf/./elf/dl-lookup.c:check_match [/usr/lib/x86_64-linux-gnu/ld-linux-x86-64.so.2]\n",
            "\n",
            "--------------------------------------------------------------------------------\n",
            "-- User-annotated source: sum.cpp\n",
            "--------------------------------------------------------------------------------\n",
            "Ir                  \n",
            "\n",
            "         .           #include<iostream>\n",
            "         .           #include<algorithm>\n",
            "         .           using namespace std;\n",
            "         .           \n",
            "         .           constexpr int M = 2048;\n",
            "         .           constexpr int N = 2048;\n",
            "         .           \n",
            "         .           double naive_sum(const double a[][N]){\n",
            "         1 ( 0.00%)      double sum = 0.0;\n",
            "     6,144 ( 0.01%)      for(int j = 0; j < N; ++j) {\n",
            "12,587,008 (24.88%)          for(int i = 0; i < M; ++i)\n",
            " 4,194,304 ( 8.29%)              sum += a[i][j];\n",
            "         .               }\n",
            "         .               return sum;\n",
            "         .           }\n",
            "         .           \n",
            "         .           double improved_sum(const double a[][N]) {\n",
            "         1 ( 0.00%)      double sum = 0.0;\n",
            "     8,192 ( 0.02%)      for(int i = 0; i < M; ++i)\n",
            " 4,194,304 ( 8.29%)          for(int j = 0; j < N; ++j)\n",
            "10,485,760 (20.73%)              sum +=a[i][j];\n",
            "         .               return sum;\n",
            "         .           }\n",
            "         .           \n",
            "         6 ( 0.00%)  int main() {\n",
            "         .               static double a[M][N];\n",
            "         .               fill_n(&a[0][0], M*N, 1.0 / (M*N));\n",
            "         .               cout << naive_sum(a) << endl;\n",
            "         .               static double b[M][N];\n",
            "         .               fill_n(&b[0][0], M*N, 1.0 / (M*N));\n",
            "         .               cout << improved_sum(b) << endl;\n",
            "         .               return 0;\n",
            "         6 ( 0.00%)  }\n",
            "\n",
            "--------------------------------------------------------------------------------\n",
            "-- Auto-annotated source: /usr/include/c++/11/bits/stl_algobase.h\n",
            "--------------------------------------------------------------------------------\n",
            "Ir                  \n",
            "\n",
            "-- line 915 ----------------------------------------\n",
            "         .             template<typename _ForwardIterator, typename _Tp>\n",
            "         .               _GLIBCXX20_CONSTEXPR\n",
            "         .               inline typename\n",
            "         .               __gnu_cxx::__enable_if<__is_scalar<_Tp>::__value, void>::__type\n",
            "         .               __fill_a1(_ForwardIterator __first, _ForwardIterator __last,\n",
            "         .           \t      const _Tp& __value)\n",
            "         .               {\n",
            "         .                 const _Tp __tmp = __value;\n",
            "12,582,916 (24.88%)        for (; __first != __last; ++__first)\n",
            " 4,194,304 ( 8.29%)  \t*__first = __tmp;\n",
            "         .               }\n",
            "         .           \n",
            "         .             // Specialization: for char types we can use memset.\n",
            "         .             template<typename _Tp>\n",
            "         .               _GLIBCXX20_CONSTEXPR\n",
            "         .               inline typename\n",
            "         .               __gnu_cxx::__enable_if<__is_byte<_Tp>::__value, void>::__type\n",
            "         .               __fill_a1(_Tp* __first, _Tp* __last, const _Tp& __c)\n",
            "-- line 932 ----------------------------------------\n",
            "\n",
            "--------------------------------------------------------------------------------\n",
            "The following files chosen for auto-annotation could not be found:\n",
            "--------------------------------------------------------------------------------\n",
            "  ./elf/../sysdeps/x86_64/dl-machine.h\n",
            "  ./elf/./elf/dl-lookup.c\n",
            "\n",
            "--------------------------------------------------------------------------------\n",
            "Ir                  \n",
            "--------------------------------------------------------------------------------\n",
            "48,252,946 (95.40%)  events annotated\n",
            "\n"
          ]
        }
      ]
    },
    {
      "cell_type": "code",
      "source": [
        "%%writefile profile.cpp\n",
        "#include<iostream>\n",
        "#include<algorithm>\n",
        "#include <cmath>\n",
        "#include <chrono>\n",
        "using namespace std;\n",
        "\n",
        "void heavyCalculation() {\n",
        "    for (int i = 0; i < 100000; ++i) {\n",
        "        double result = std::sqrt(static_cast<double>(i));\n",
        "    }\n",
        "}\n",
        "\n",
        "void intermediateFunction() {\n",
        "    for (int i = 0; i < 1000; ++i) {\n",
        "        heavyCalculation();\n",
        "    }\n",
        "}\n",
        "\n",
        "void mainFunction() {\n",
        "    for (int i = 0; i < 5; ++i) {\n",
        "        intermediateFunction();\n",
        "    }\n",
        "}\n",
        "\n",
        "int main() {\n",
        "    auto start = std::chrono::high_resolution_clock::now();\n",
        "\n",
        "    mainFunction();\n",
        "\n",
        "    auto end = std::chrono::high_resolution_clock::now();\n",
        "    auto duration = std::chrono::duration_cast<std::chrono::milliseconds>(end - start);\n",
        "\n",
        "    std::cout << \"Time taken: \" << duration.count() << \" milliseconds\" << std::endl;\n",
        "\n",
        "    return 0;\n",
        "}\n"
      ],
      "metadata": {
        "id": "5O8uLJPbtwmb",
        "outputId": "d4d0239a-364a-4766-c425-3cbde87f21e9",
        "colab": {
          "base_uri": "https://localhost:8080/"
        }
      },
      "execution_count": 8,
      "outputs": [
        {
          "output_type": "stream",
          "name": "stdout",
          "text": [
            "Overwriting profile.cpp\n"
          ]
        }
      ]
    },
    {
      "cell_type": "code",
      "source": [
        "!apt-get install graphviz"
      ],
      "metadata": {
        "id": "95v_3ThTwneb",
        "outputId": "8fa20150-8c64-4e04-bc76-fca6e92be2b5",
        "colab": {
          "base_uri": "https://localhost:8080/"
        }
      },
      "execution_count": 9,
      "outputs": [
        {
          "output_type": "stream",
          "name": "stdout",
          "text": [
            "Reading package lists... Done\n",
            "Building dependency tree... Done\n",
            "Reading state information... Done\n",
            "graphviz is already the newest version (2.42.2-6).\n",
            "0 upgraded, 0 newly installed, 0 to remove and 18 not upgraded.\n"
          ]
        }
      ]
    },
    {
      "cell_type": "code",
      "source": [
        "!pip install gprof2dot"
      ],
      "metadata": {
        "id": "VibopCYyw0j1",
        "outputId": "afe7893f-693c-4870-9fd0-24fd9d4f67e8",
        "colab": {
          "base_uri": "https://localhost:8080/"
        }
      },
      "execution_count": 10,
      "outputs": [
        {
          "output_type": "stream",
          "name": "stdout",
          "text": [
            "Collecting gprof2dot\n",
            "  Downloading gprof2dot-2022.7.29-py2.py3-none-any.whl (34 kB)\n",
            "Installing collected packages: gprof2dot\n",
            "Successfully installed gprof2dot-2022.7.29\n"
          ]
        }
      ]
    },
    {
      "cell_type": "code",
      "source": [],
      "metadata": {
        "id": "d4IAbjKhw7jx"
      },
      "execution_count": null,
      "outputs": []
    },
    {
      "cell_type": "code",
      "source": [
        "!g++ -Wall -O0 -g profile.cpp -o profile"
      ],
      "metadata": {
        "id": "WRHSYgCnxZW2",
        "outputId": "c9cfe577-1bd6-4842-8d86-334c6549a957",
        "colab": {
          "base_uri": "https://localhost:8080/"
        }
      },
      "execution_count": 11,
      "outputs": [
        {
          "output_type": "stream",
          "name": "stdout",
          "text": [
            "\u001b[01m\u001b[Kprofile.cpp:\u001b[m\u001b[K In function ‘\u001b[01m\u001b[Kvoid heavyCalculation()\u001b[m\u001b[K’:\n",
            "\u001b[01m\u001b[Kprofile.cpp:9:16:\u001b[m\u001b[K \u001b[01;35m\u001b[Kwarning: \u001b[m\u001b[Kunused variable ‘\u001b[01m\u001b[Kresult\u001b[m\u001b[K’ [\u001b[01;35m\u001b[K\u001b]8;;https://gcc.gnu.org/onlinedocs/gcc/Warning-Options.html#index-Wunused-variable\u0007-Wunused-variable\u001b]8;;\u0007\u001b[m\u001b[K]\n",
            "    9 |         double \u001b[01;35m\u001b[Kresult\u001b[m\u001b[K = std::sqrt(static_cast<double>(i));\n",
            "      |                \u001b[01;35m\u001b[K^~~~~~\u001b[m\u001b[K\n"
          ]
        }
      ]
    },
    {
      "cell_type": "code",
      "source": [
        "!valgrind --tool=callgrind ./profile"
      ],
      "metadata": {
        "id": "Sal2zU2CyjfG",
        "outputId": "776cecbe-0702-44d3-80bb-3710e5e949b3",
        "colab": {
          "base_uri": "https://localhost:8080/"
        }
      },
      "execution_count": 12,
      "outputs": [
        {
          "output_type": "stream",
          "name": "stdout",
          "text": [
            "==7341== Callgrind, a call-graph generating cache profiler\n",
            "==7341== Copyright (C) 2002-2017, and GNU GPL'd, by Josef Weidendorfer et al.\n",
            "==7341== Using Valgrind-3.18.1 and LibVEX; rerun with -h for copyright info\n",
            "==7341== Command: ./profile\n",
            "==7341== \n",
            "==7341== For interactive control, run 'callgrind_control -h'.\n",
            "Time taken: 134807 milliseconds\n",
            "==7341== \n",
            "==7341== Events    : Ir\n",
            "==7341== Collected : 10002410653\n",
            "==7341== \n",
            "==7341== I   refs:      10,002,410,653\n"
          ]
        }
      ]
    },
    {
      "cell_type": "code",
      "source": [
        "!ls"
      ],
      "metadata": {
        "id": "MXKKHQWoFOjK",
        "outputId": "947ce815-d1fe-4429-f30b-0a2b67337b10",
        "colab": {
          "base_uri": "https://localhost:8080/"
        }
      },
      "execution_count": 13,
      "outputs": [
        {
          "output_type": "stream",
          "name": "stdout",
          "text": [
            "callgrind.out.1801  profile\t sample_data  sum.cpp\n",
            "callgrind.out.7341  profile.cpp  sum\n"
          ]
        }
      ]
    },
    {
      "cell_type": "code",
      "source": [
        "!callgrind_annotate callgrind.out.7341 profile.cpp"
      ],
      "metadata": {
        "id": "cBsUNlIezF3q",
        "outputId": "f8ea89b5-b55e-4bc3-c832-08d5f9898138",
        "colab": {
          "base_uri": "https://localhost:8080/"
        }
      },
      "execution_count": 14,
      "outputs": [
        {
          "output_type": "stream",
          "name": "stdout",
          "text": [
            "--------------------------------------------------------------------------------\n",
            "Profile data file 'callgrind.out.7341' (creator: callgrind-3.18.1)\n",
            "--------------------------------------------------------------------------------\n",
            "I1 cache: \n",
            "D1 cache: \n",
            "LL cache: \n",
            "Timerange: Basic block 0 - 3000400675\n",
            "Trigger: Program termination\n",
            "Profiled target:  ./profile (PID 7341, part 1)\n",
            "Events recorded:  Ir\n",
            "Events shown:     Ir\n",
            "Event sort order: Ir\n",
            "Thresholds:       99\n",
            "Include dirs:     \n",
            "User annotated:   profile.cpp\n",
            "Auto-annotation:  on\n",
            "\n",
            "--------------------------------------------------------------------------------\n",
            "Ir                      \n",
            "--------------------------------------------------------------------------------\n",
            "10,002,410,653 (100.0%)  PROGRAM TOTALS\n",
            "\n",
            "--------------------------------------------------------------------------------\n",
            "Ir                      file:function\n",
            "--------------------------------------------------------------------------------\n",
            "5,000,060,000 (49.99%)  profile.cpp:heavyCalculation() [/content/profile]\n",
            "2,500,000,000 (24.99%)  ./math/./math/w_sqrt_compat.c:sqrt [/usr/lib/x86_64-linux-gnu/libm.so.6]\n",
            "1,500,000,000 (15.00%)  ./math/../sysdeps/ieee754/dbl-64/e_sqrt.c:__sqrt_finite@GLIBC_2.15 [/usr/lib/x86_64-linux-gnu/libm.so.6]\n",
            "1,000,000,000 (10.00%)  ???:0x00000000001090d0 [???]\n",
            "\n",
            "--------------------------------------------------------------------------------\n",
            "-- User-annotated source: profile.cpp\n",
            "--------------------------------------------------------------------------------\n",
            "Ir                     \n",
            "\n",
            "            .           #include<iostream>\n",
            "            .           #include<algorithm>\n",
            "            .           #include <cmath>\n",
            "            .           #include <chrono>\n",
            "            .           using namespace std;\n",
            "            .           \n",
            "       20,000 ( 0.00%)  void heavyCalculation() {\n",
            "1,500,020,000 (15.00%)      for (int i = 0; i < 100000; ++i) {\n",
            "3,500,000,000 (34.99%)          double result = std::sqrt(static_cast<double>(i));\n",
            "5,000,000,000 (49.99%)  => ???:0x00000000001090d0 (500,000,000x)\n",
            "            .               }\n",
            "       20,000 ( 0.00%)  }\n",
            "            .           \n",
            "           20 ( 0.00%)  void intermediateFunction() {\n",
            "       15,020 ( 0.00%)      for (int i = 0; i < 1000; ++i) {\n",
            "        5,000 ( 0.00%)          heavyCalculation();\n",
            "10,000,060,000 (99.98%)  => profile.cpp:heavyCalculation() (5,000x)\n",
            "            .               }\n",
            "           20 ( 0.00%)  }\n",
            "            .           \n",
            "            4 ( 0.00%)  void mainFunction() {\n",
            "           19 ( 0.00%)      for (int i = 0; i < 5; ++i) {\n",
            "            5 ( 0.00%)          intermediateFunction();\n",
            "10,000,080,060 (99.98%)  => profile.cpp:intermediateFunction() (5x)\n",
            "            .               }\n",
            "            4 ( 0.00%)  }\n",
            "            .           \n",
            "            8 ( 0.00%)  int main() {\n",
            "            2 ( 0.00%)      auto start = std::chrono::high_resolution_clock::now();\n",
            "          881 ( 0.00%)  => ???:0x00000000001090c0 (1x)\n",
            "            .           \n",
            "            1 ( 0.00%)      mainFunction();\n",
            "10,000,080,092 (99.98%)  => profile.cpp:mainFunction() (1x)\n",
            "            .           \n",
            "            2 ( 0.00%)      auto end = std::chrono::high_resolution_clock::now();\n",
            "           30 ( 0.00%)  => ???:0x00000000001090c0 (1x)\n",
            "           10 ( 0.00%)      auto duration = std::chrono::duration_cast<std::chrono::milliseconds>(end - start);\n",
            "          110 ( 0.00%)  => /usr/include/c++/11/chrono:std::common_type<std::chrono::duration<long, std::ratio<1l, 1000000000l> >, std::chrono::duration<long, std::ratio<1l, 1000000000l> > >::type std::chrono::operator-<std::chrono::_V2::system_clock, std::chrono::duration<long, std::ratio<1l, 1000000000l> >, std::chrono::duration<long, std::ratio<1l, 1000000000l> > >(std::chrono::time_point<std::chrono::_V2::system_clock, std::chrono::duration<long, std::ratio<1l, 1000000000l> > > const&, std::chrono::time_point<std::chrono::_V2::system_clock, std::chrono::duration<long, std::ratio<1l, 1000000000l> > > const&) (1x)\n",
            "           62 ( 0.00%)  => /usr/include/c++/11/chrono:std::enable_if<std::chrono::__is_duration<std::chrono::duration<long, std::ratio<1l, 1000l> > >::value, std::chrono::duration<long, std::ratio<1l, 1000l> > >::type std::chrono::duration_cast<std::chrono::duration<long, std::ratio<1l, 1000l> >, long, std::ratio<1l, 1000000000l> >(std::chrono::duration<long, std::ratio<1l, 1000000000l> > const&) (1x)\n",
            "            .           \n",
            "           21 ( 0.00%)      std::cout << \"Time taken: \" << duration.count() << \" milliseconds\" << std::endl;\n",
            "        5,119 ( 0.00%)  => ???:0x00000000001090f0 (2x)\n",
            "        5,060 ( 0.00%)  => ???:0x0000000000109130 (1x)\n",
            "        3,267 ( 0.00%)  => ???:0x0000000000109100 (1x)\n",
            "            8 ( 0.00%)  => /usr/include/c++/11/chrono:std::chrono::duration<long, std::ratio<1l, 1000l> >::count() const (1x)\n",
            "            .           \n",
            "            1 ( 0.00%)      return 0;\n",
            "           27 ( 0.00%)  }\n",
            "      102,987 ( 0.00%)  => profile.cpp:__static_initialization_and_destruction_0(int, int) (1x)\n",
            "\n",
            "--------------------------------------------------------------------------------\n",
            "The following files chosen for auto-annotation could not be found:\n",
            "--------------------------------------------------------------------------------\n",
            "  ./math/../sysdeps/ieee754/dbl-64/e_sqrt.c\n",
            "  ./math/./math/w_sqrt_compat.c\n",
            "\n",
            "--------------------------------------------------------------------------------\n",
            "Ir                     \n",
            "--------------------------------------------------------------------------------\n",
            "5,000,080,164 (49.99%)  events annotated\n",
            "\n"
          ]
        }
      ]
    },
    {
      "cell_type": "code",
      "source": [
        "!gprof2dot  -n0.1 -f callgrind callgrind.out.7341 | dot -Tsvg -o output.svg"
      ],
      "metadata": {
        "id": "RA4gNUO-0Uns"
      },
      "execution_count": 15,
      "outputs": []
    },
    {
      "cell_type": "code",
      "source": [],
      "metadata": {
        "id": "ac24ZJdZFkDP"
      },
      "execution_count": null,
      "outputs": []
    },
    {
      "cell_type": "code",
      "source": [],
      "metadata": {
        "id": "eI6gQgd-FkNS"
      },
      "execution_count": null,
      "outputs": []
    },
    {
      "cell_type": "code",
      "source": [
        "!g++ -g euclides-ingenuo.cpp -o euclides-ingenuo"
      ],
      "metadata": {
        "id": "QTLenX9d3afv"
      },
      "execution_count": null,
      "outputs": []
    },
    {
      "cell_type": "code",
      "source": [
        "!valgrind --tool=callgrind ./euclides-ingenuo"
      ],
      "metadata": {
        "id": "pLlSEBWt4UAp",
        "outputId": "b02c17dd-7f74-4659-993c-0af28f2bebb6",
        "colab": {
          "base_uri": "https://localhost:8080/"
        }
      },
      "execution_count": null,
      "outputs": [
        {
          "output_type": "stream",
          "name": "stdout",
          "text": [
            "==53904== Callgrind, a call-graph generating cache profiler\n",
            "==53904== Copyright (C) 2002-2017, and GNU GPL'd, by Josef Weidendorfer et al.\n",
            "==53904== Using Valgrind-3.18.1 and LibVEX; rerun with -h for copyright info\n",
            "==53904== Command: ./euclides-ingenuo\n",
            "==53904== \n",
            "==53904== For interactive control, run 'callgrind_control -h'.\n",
            "==53904== \n",
            "==53904== Process terminating with default action of signal 2 (SIGINT)\n",
            "==53904==    at 0x4BB9992: read (read.c:26)\n",
            "==53904==    by 0x4B31CB5: _IO_file_underflow@@GLIBC_2.2.5 (fileops.c:516)\n",
            "==53904==    by 0x4B32E15: _IO_default_uflow (genops.c:362)\n",
            "==53904==    by 0x496B8C0: __gnu_cxx::stdio_sync_filebuf<char, std::char_traits<char> >::underflow() (in /usr/lib/x86_64-linux-gnu/libstdc++.so.6.0.30)\n",
            "==53904==    by 0x49799D5: std::istream::sentry::sentry(std::istream&, bool) (in /usr/lib/x86_64-linux-gnu/libstdc++.so.6.0.30)\n",
            "==53904==    by 0x4979C31: std::istream::operator>>(int&) (in /usr/lib/x86_64-linux-gnu/libstdc++.so.6.0.30)\n",
            "==53904==    by 0x109534: main (euclides-ingenuo.cpp:25)\n",
            "==53904== \n",
            "==53904== Events    : Ir\n",
            "==53904== Collected : 2320620\n",
            "==53904== \n",
            "==53904== I   refs:      2,320,620\n",
            "^C\n"
          ]
        }
      ]
    },
    {
      "cell_type": "code",
      "source": [],
      "metadata": {
        "id": "HecTipQm4ypB"
      },
      "execution_count": null,
      "outputs": []
    }
  ]
}