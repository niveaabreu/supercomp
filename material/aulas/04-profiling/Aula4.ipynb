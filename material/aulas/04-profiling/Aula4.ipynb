{
  "nbformat": 4,
  "nbformat_minor": 0,
  "metadata": {
    "colab": {
      "provenance": [],
      "authorship_tag": "ABX9TyOqRtn95Oeoj2yD7bFhRBkZ"
    },
    "kernelspec": {
      "name": "python3",
      "display_name": "Python 3"
    },
    "language_info": {
      "name": "python"
    }
  },
  "cells": [
    {
      "cell_type": "code",
      "source": [
        "%%writefile sum.cpp\n",
        "#include<iostream>\n",
        "#include<algorithm>\n",
        "using namespace std;\n",
        "\n",
        "constexpr int M = 2048;\n",
        "constexpr int N = 2048;\n",
        "\n",
        "double naive_sum(const double a[][N]){\n",
        "    double sum = 0.0;\n",
        "    for(int j = 0; j < N; ++j) {\n",
        "        for(int i = 0; i < M; ++i)\n",
        "            sum += a[i][j];\n",
        "    }\n",
        "    return sum;\n",
        "}\n",
        "\n",
        "double improved_sum(const double a[][N]) {\n",
        "    double sum = 0.0;\n",
        "    for(int i = 0; i < M; ++i)\n",
        "        for(int j = 0; j < N; ++j)\n",
        "            sum +=a[i][j];\n",
        "    return sum;\n",
        "}\n",
        "\n",
        "int main() {\n",
        "    static double a[M][N];\n",
        "    fill_n(&a[0][0], M*N, 1.0 / (M*N));\n",
        "    cout << naive_sum(a) << endl;\n",
        "    static double b[M][N];\n",
        "    fill_n(&b[0][0], M*N, 1.0 / (M*N));\n",
        "    cout << improved_sum(b) << endl;\n",
        "    return 0;\n",
        "}"
      ],
      "metadata": {
        "id": "H14kszm9proR",
        "outputId": "48720fcc-7435-40d7-dd1c-3c1261c7fc88",
        "colab": {
          "base_uri": "https://localhost:8080/"
        }
      },
      "execution_count": 3,
      "outputs": [
        {
          "output_type": "stream",
          "name": "stdout",
          "text": [
            "Overwriting sum.cpp\n"
          ]
        }
      ]
    },
    {
      "cell_type": "code",
      "source": [
        "!g++ -Wall -O3 -g sum.cpp -o sum\n"
      ],
      "metadata": {
        "id": "3k9KzkCtp5WO"
      },
      "execution_count": 6,
      "outputs": []
    },
    {
      "cell_type": "code",
      "source": [
        "!apt-get install valgrind"
      ],
      "metadata": {
        "id": "R3d93V03qXlb",
        "outputId": "0f86fd58-ed1f-4794-e574-892b39472cf2",
        "colab": {
          "base_uri": "https://localhost:8080/"
        }
      },
      "execution_count": 8,
      "outputs": [
        {
          "output_type": "stream",
          "name": "stdout",
          "text": [
            "Reading package lists... Done\n",
            "Building dependency tree... Done\n",
            "Reading state information... Done\n",
            "valgrind is already the newest version (1:3.18.1-1ubuntu2).\n",
            "0 upgraded, 0 newly installed, 0 to remove and 16 not upgraded.\n"
          ]
        }
      ]
    },
    {
      "cell_type": "code",
      "source": [
        "!valgrind --tool=callgrind ./sum"
      ],
      "metadata": {
        "id": "YQreI0LUrbVV",
        "outputId": "722838d0-08dc-4fd2-aed5-d4402d198d31",
        "colab": {
          "base_uri": "https://localhost:8080/"
        }
      },
      "execution_count": 9,
      "outputs": [
        {
          "output_type": "stream",
          "name": "stdout",
          "text": [
            "==39968== Callgrind, a call-graph generating cache profiler\n",
            "==39968== Copyright (C) 2002-2017, and GNU GPL'd, by Josef Weidendorfer et al.\n",
            "==39968== Using Valgrind-3.18.1 and LibVEX; rerun with -h for copyright info\n",
            "==39968== Command: ./sum\n",
            "==39968== \n",
            "==39968== For interactive control, run 'callgrind_control -h'.\n",
            "1\n",
            "1\n",
            "==39968== \n",
            "==39968== Events    : Ir\n",
            "==39968== Collected : 50581278\n",
            "==39968== \n",
            "==39968== I   refs:      50,581,278\n"
          ]
        }
      ]
    },
    {
      "cell_type": "code",
      "source": [
        "!ls\n"
      ],
      "metadata": {
        "id": "ZM0aoBC7rlOT",
        "outputId": "8313556c-4226-4989-c0b9-e372be1e8394",
        "colab": {
          "base_uri": "https://localhost:8080/"
        }
      },
      "execution_count": 12,
      "outputs": [
        {
          "output_type": "stream",
          "name": "stdout",
          "text": [
            "Aula4.ipynb\t     euclides-ingenuo.cpp  matriz.svg\tsum\n",
            "callgrind.out.39968  index.md\t\t   sample_data\tsum.cpp\n",
            "euclides.dSYM\t     matriz.png\t\t   slides.pdf\n"
          ]
        }
      ]
    },
    {
      "cell_type": "code",
      "source": [
        "!callgrind_annotate callgrind.out.39968 sum.cpp"
      ],
      "metadata": {
        "id": "R9Xbv_zhs2RN",
        "outputId": "c2ba61da-066f-46d0-8027-43810a94ff28",
        "colab": {
          "base_uri": "https://localhost:8080/"
        }
      },
      "execution_count": 15,
      "outputs": [
        {
          "output_type": "stream",
          "name": "stdout",
          "text": [
            "--------------------------------------------------------------------------------\n",
            "Profile data file 'callgrind.out.39968' (creator: callgrind-3.18.1)\n",
            "--------------------------------------------------------------------------------\n",
            "I1 cache: \n",
            "D1 cache: \n",
            "LL cache: \n",
            "Timerange: Basic block 0 - 10864277\n",
            "Trigger: Program termination\n",
            "Profiled target:  ./sum (PID 39968, part 1)\n",
            "Events recorded:  Ir\n",
            "Events shown:     Ir\n",
            "Event sort order: Ir\n",
            "Thresholds:       99\n",
            "Include dirs:     \n",
            "User annotated:   sum.cpp\n",
            "Auto-annotation:  on\n",
            "\n",
            "--------------------------------------------------------------------------------\n",
            "Ir                  \n",
            "--------------------------------------------------------------------------------\n",
            "50,581,278 (100.0%)  PROGRAM TOTALS\n",
            "\n",
            "--------------------------------------------------------------------------------\n",
            "Ir                   file:function\n",
            "--------------------------------------------------------------------------------\n",
            "31,475,723 (62.23%)  sum.cpp:main [/content/sum]\n",
            "16,777,220 (33.17%)  /usr/include/c++/11/bits/stl_algobase.h:main\n",
            "   975,890 ( 1.93%)  ./elf/./elf/dl-lookup.c:_dl_lookup_symbol_x [/usr/lib/x86_64-linux-gnu/ld-linux-x86-64.so.2]\n",
            "   557,764 ( 1.10%)  ./elf/./elf/dl-lookup.c:do_lookup_x [/usr/lib/x86_64-linux-gnu/ld-linux-x86-64.so.2]\n",
            "   259,006 ( 0.51%)  ./elf/../sysdeps/x86_64/dl-machine.h:_dl_relocate_object\n",
            "   117,512 ( 0.23%)  ./elf/./elf/dl-lookup.c:check_match [/usr/lib/x86_64-linux-gnu/ld-linux-x86-64.so.2]\n",
            "\n",
            "--------------------------------------------------------------------------------\n",
            "-- User-annotated source: sum.cpp\n",
            "--------------------------------------------------------------------------------\n",
            "Ir                  \n",
            "\n",
            "         .           #include<iostream>\n",
            "         .           #include<algorithm>\n",
            "         .           using namespace std;\n",
            "         .           \n",
            "         .           constexpr int M = 2048;\n",
            "         .           constexpr int N = 2048;\n",
            "         .           \n",
            "         .           double naive_sum(const double a[][N]){\n",
            "         1 ( 0.00%)      double sum = 0.0;\n",
            "     6,144 ( 0.01%)      for(int j = 0; j < N; ++j) {\n",
            "12,587,008 (24.88%)          for(int i = 0; i < M; ++i)\n",
            " 4,194,304 ( 8.29%)              sum += a[i][j];\n",
            "         .               }\n",
            "         .               return sum;\n",
            "         .           }\n",
            "         .           \n",
            "         .           double improved_sum(const double a[][N]) {\n",
            "         1 ( 0.00%)      double sum = 0.0;\n",
            "     8,192 ( 0.02%)      for(int i = 0; i < M; ++i)\n",
            " 4,194,304 ( 8.29%)          for(int j = 0; j < N; ++j)\n",
            "10,485,760 (20.73%)              sum +=a[i][j];\n",
            "         .               return sum;\n",
            "         .           }\n",
            "         .           \n",
            "         6 ( 0.00%)  int main() {\n",
            "         .               static double a[M][N];\n",
            "         .               fill_n(&a[0][0], M*N, 1.0 / (M*N));\n",
            "         .               cout << naive_sum(a) << endl;\n",
            "         .               static double b[M][N];\n",
            "         .               fill_n(&b[0][0], M*N, 1.0 / (M*N));\n",
            "         .               cout << improved_sum(b) << endl;\n",
            "         .               return 0;\n",
            "         6 ( 0.00%)  }\n",
            "\n",
            "--------------------------------------------------------------------------------\n",
            "-- Auto-annotated source: /usr/include/c++/11/bits/stl_algobase.h\n",
            "--------------------------------------------------------------------------------\n",
            "Ir                  \n",
            "\n",
            "-- line 915 ----------------------------------------\n",
            "         .             template<typename _ForwardIterator, typename _Tp>\n",
            "         .               _GLIBCXX20_CONSTEXPR\n",
            "         .               inline typename\n",
            "         .               __gnu_cxx::__enable_if<__is_scalar<_Tp>::__value, void>::__type\n",
            "         .               __fill_a1(_ForwardIterator __first, _ForwardIterator __last,\n",
            "         .           \t      const _Tp& __value)\n",
            "         .               {\n",
            "         .                 const _Tp __tmp = __value;\n",
            "12,582,916 (24.88%)        for (; __first != __last; ++__first)\n",
            " 4,194,304 ( 8.29%)  \t*__first = __tmp;\n",
            "         .               }\n",
            "         .           \n",
            "         .             // Specialization: for char types we can use memset.\n",
            "         .             template<typename _Tp>\n",
            "         .               _GLIBCXX20_CONSTEXPR\n",
            "         .               inline typename\n",
            "         .               __gnu_cxx::__enable_if<__is_byte<_Tp>::__value, void>::__type\n",
            "         .               __fill_a1(_Tp* __first, _Tp* __last, const _Tp& __c)\n",
            "-- line 932 ----------------------------------------\n",
            "\n",
            "--------------------------------------------------------------------------------\n",
            "The following files chosen for auto-annotation could not be found:\n",
            "--------------------------------------------------------------------------------\n",
            "  ./elf/../sysdeps/x86_64/dl-machine.h\n",
            "  ./elf/./elf/dl-lookup.c\n",
            "\n",
            "--------------------------------------------------------------------------------\n",
            "Ir                  \n",
            "--------------------------------------------------------------------------------\n",
            "48,252,946 (95.40%)  events annotated\n",
            "\n"
          ]
        }
      ]
    },
    {
      "cell_type": "code",
      "source": [
        "%%writefile profile.cpp\n",
        "#include <iostream>\n",
        "#include <cmath>\n",
        "#include <chrono>\n",
        "\n",
        "void heavyCalculation() {\n",
        "    for (int i = 0; i < 100000; ++i) {\n",
        "        double result = std::sqrt(static_cast<double>(i));\n",
        "    }\n",
        "}\n",
        "\n",
        "void intermediateFunction() {\n",
        "    for (int i = 0; i < 1000; ++i) {\n",
        "        heavyCalculation();\n",
        "    }\n",
        "}\n",
        "\n",
        "void mainFunction() {\n",
        "    for (int i = 0; i < 5; ++i) {\n",
        "        intermediateFunction();\n",
        "    }\n",
        "}\n",
        "\n",
        "int main() {\n",
        "    auto start = std::chrono::high_resolution_clock::now();\n",
        "\n",
        "    mainFunction();\n",
        "\n",
        "    auto end = std::chrono::high_resolution_clock::now();\n",
        "    auto duration = std::chrono::duration_cast<std::chrono::milliseconds>(end - start);\n",
        "\n",
        "    std::cout << \"Time taken: \" << duration.count() << \" milliseconds\" << std::endl;\n",
        "\n",
        "    return 0;\n",
        "}"
      ],
      "metadata": {
        "id": "5O8uLJPbtwmb",
        "outputId": "429bb8e1-6a5a-43a9-b7d3-27c3ae55f441",
        "colab": {
          "base_uri": "https://localhost:8080/"
        }
      },
      "execution_count": 16,
      "outputs": [
        {
          "output_type": "stream",
          "name": "stdout",
          "text": [
            "Writing profile.cpp\n"
          ]
        }
      ]
    },
    {
      "cell_type": "code",
      "source": [
        "!apt-get install graphviz"
      ],
      "metadata": {
        "id": "95v_3ThTwneb",
        "outputId": "8eebc68f-e475-4f4e-c640-6df07a8fd40b",
        "colab": {
          "base_uri": "https://localhost:8080/"
        }
      },
      "execution_count": 17,
      "outputs": [
        {
          "output_type": "stream",
          "name": "stdout",
          "text": [
            "Reading package lists... Done\n",
            "Building dependency tree... Done\n",
            "Reading state information... Done\n",
            "graphviz is already the newest version (2.42.2-6).\n",
            "0 upgraded, 0 newly installed, 0 to remove and 16 not upgraded.\n"
          ]
        }
      ]
    },
    {
      "cell_type": "code",
      "source": [
        "!pip install gprof2dot"
      ],
      "metadata": {
        "id": "VibopCYyw0j1",
        "outputId": "595590b6-a737-44b7-abfb-ea8b15617925",
        "colab": {
          "base_uri": "https://localhost:8080/"
        }
      },
      "execution_count": 18,
      "outputs": [
        {
          "output_type": "stream",
          "name": "stdout",
          "text": [
            "Collecting gprof2dot\n",
            "  Downloading gprof2dot-2022.7.29-py2.py3-none-any.whl (34 kB)\n",
            "Installing collected packages: gprof2dot\n",
            "Successfully installed gprof2dot-2022.7.29\n"
          ]
        }
      ]
    },
    {
      "cell_type": "code",
      "source": [
        "!gprof2dot -n30 -f callgrind callgrind.out.39968 | dot -Tsvg -o output.svg"
      ],
      "metadata": {
        "id": "d4IAbjKhw7jx"
      },
      "execution_count": 20,
      "outputs": []
    },
    {
      "cell_type": "code",
      "source": [
        "!g++ -Wall -o0 -g profile.cpp -o profile"
      ],
      "metadata": {
        "id": "WRHSYgCnxZW2",
        "outputId": "e0e15397-1929-424e-ec3b-9e3c48bcf547",
        "colab": {
          "base_uri": "https://localhost:8080/"
        }
      },
      "execution_count": 23,
      "outputs": [
        {
          "output_type": "stream",
          "name": "stdout",
          "text": [
            "\u001b[01m\u001b[Kprofile.cpp:\u001b[m\u001b[K In function ‘\u001b[01m\u001b[Kvoid heavyCalculation()\u001b[m\u001b[K’:\n",
            "\u001b[01m\u001b[Kprofile.cpp:7:16:\u001b[m\u001b[K \u001b[01;35m\u001b[Kwarning: \u001b[m\u001b[Kunused variable ‘\u001b[01m\u001b[Kresult\u001b[m\u001b[K’ [\u001b[01;35m\u001b[K\u001b]8;;https://gcc.gnu.org/onlinedocs/gcc/Warning-Options.html#index-Wunused-variable\u0007-Wunused-variable\u001b]8;;\u0007\u001b[m\u001b[K]\n",
            "    7 |         double \u001b[01;35m\u001b[Kresult\u001b[m\u001b[K = std::sqrt(static_cast<double>(i));\n",
            "      |                \u001b[01;35m\u001b[K^~~~~~\u001b[m\u001b[K\n"
          ]
        }
      ]
    },
    {
      "cell_type": "code",
      "source": [
        "!valgrind --tool=callgrind ./profile"
      ],
      "metadata": {
        "id": "Sal2zU2CyjfG",
        "outputId": "ad4c40cf-389b-4b96-a5ff-678d7b60535a",
        "colab": {
          "base_uri": "https://localhost:8080/"
        }
      },
      "execution_count": 28,
      "outputs": [
        {
          "output_type": "stream",
          "name": "stdout",
          "text": [
            "==47894== Callgrind, a call-graph generating cache profiler\n",
            "==47894== Copyright (C) 2002-2017, and GNU GPL'd, by Josef Weidendorfer et al.\n",
            "==47894== Using Valgrind-3.18.1 and LibVEX; rerun with -h for copyright info\n",
            "==47894== Command: ./profile\n",
            "==47894== \n",
            "==47894== For interactive control, run 'callgrind_control -h'.\n",
            "Time taken: 255619 milliseconds\n",
            "==47894== \n",
            "==47894== Events    : Ir\n",
            "==47894== Collected : 10002410933\n",
            "==47894== \n",
            "==47894== I   refs:      10,002,410,933\n"
          ]
        }
      ]
    },
    {
      "cell_type": "code",
      "source": [
        "!callgrind_annotate callgrind.out.39968 profile.cpp"
      ],
      "metadata": {
        "id": "cBsUNlIezF3q",
        "outputId": "a1100dca-090b-4a3a-e496-75b9a230f0b4",
        "colab": {
          "base_uri": "https://localhost:8080/"
        }
      },
      "execution_count": 29,
      "outputs": [
        {
          "output_type": "stream",
          "name": "stdout",
          "text": [
            "--------------------------------------------------------------------------------\n",
            "Profile data file 'callgrind.out.39968' (creator: callgrind-3.18.1)\n",
            "--------------------------------------------------------------------------------\n",
            "I1 cache: \n",
            "D1 cache: \n",
            "LL cache: \n",
            "Timerange: Basic block 0 - 10864277\n",
            "Trigger: Program termination\n",
            "Profiled target:  ./sum (PID 39968, part 1)\n",
            "Events recorded:  Ir\n",
            "Events shown:     Ir\n",
            "Event sort order: Ir\n",
            "Thresholds:       99\n",
            "Include dirs:     \n",
            "User annotated:   profile.cpp\n",
            "Auto-annotation:  on\n",
            "\n",
            "--------------------------------------------------------------------------------\n",
            "Ir                  \n",
            "--------------------------------------------------------------------------------\n",
            "50,581,278 (100.0%)  PROGRAM TOTALS\n",
            "\n",
            "--------------------------------------------------------------------------------\n",
            "Ir                   file:function\n",
            "--------------------------------------------------------------------------------\n",
            "31,475,723 (62.23%)  sum.cpp:main [/content/sum]\n",
            "16,777,220 (33.17%)  /usr/include/c++/11/bits/stl_algobase.h:main\n",
            "   975,890 ( 1.93%)  ./elf/./elf/dl-lookup.c:_dl_lookup_symbol_x [/usr/lib/x86_64-linux-gnu/ld-linux-x86-64.so.2]\n",
            "   557,764 ( 1.10%)  ./elf/./elf/dl-lookup.c:do_lookup_x [/usr/lib/x86_64-linux-gnu/ld-linux-x86-64.so.2]\n",
            "   259,006 ( 0.51%)  ./elf/../sysdeps/x86_64/dl-machine.h:_dl_relocate_object\n",
            "   117,512 ( 0.23%)  ./elf/./elf/dl-lookup.c:check_match [/usr/lib/x86_64-linux-gnu/ld-linux-x86-64.so.2]\n",
            "\n",
            "--------------------------------------------------------------------------------\n",
            "-- Auto-annotated source: sum.cpp\n",
            "--------------------------------------------------------------------------------\n",
            "Ir                  \n",
            "\n",
            "         .           #include<iostream>\n",
            "         .           #include<algorithm>\n",
            "         .           using namespace std;\n",
            "         .           \n",
            "         .           constexpr int M = 2048;\n",
            "         .           constexpr int N = 2048;\n",
            "         .           \n",
            "         .           double naive_sum(const double a[][N]){\n",
            "         1 ( 0.00%)      double sum = 0.0;\n",
            "     6,144 ( 0.01%)      for(int j = 0; j < N; ++j) {\n",
            "12,587,008 (24.88%)          for(int i = 0; i < M; ++i)\n",
            " 4,194,304 ( 8.29%)              sum += a[i][j];\n",
            "         .               }\n",
            "         .               return sum;\n",
            "         .           }\n",
            "         .           \n",
            "         .           double improved_sum(const double a[][N]) {\n",
            "         1 ( 0.00%)      double sum = 0.0;\n",
            "     8,192 ( 0.02%)      for(int i = 0; i < M; ++i)\n",
            " 4,194,304 ( 8.29%)          for(int j = 0; j < N; ++j)\n",
            "10,485,760 (20.73%)              sum +=a[i][j];\n",
            "         .               return sum;\n",
            "         .           }\n",
            "         .           \n",
            "         6 ( 0.00%)  int main() {\n",
            "         .               static double a[M][N];\n",
            "         .               fill_n(&a[0][0], M*N, 1.0 / (M*N));\n",
            "         .               cout << naive_sum(a) << endl;\n",
            "         .               static double b[M][N];\n",
            "         .               fill_n(&b[0][0], M*N, 1.0 / (M*N));\n",
            "         .               cout << improved_sum(b) << endl;\n",
            "         .               return 0;\n",
            "         6 ( 0.00%)  }\n",
            "\n",
            "--------------------------------------------------------------------------------\n",
            "-- Auto-annotated source: /usr/include/c++/11/bits/stl_algobase.h\n",
            "--------------------------------------------------------------------------------\n",
            "Ir                  \n",
            "\n",
            "-- line 915 ----------------------------------------\n",
            "         .             template<typename _ForwardIterator, typename _Tp>\n",
            "         .               _GLIBCXX20_CONSTEXPR\n",
            "         .               inline typename\n",
            "         .               __gnu_cxx::__enable_if<__is_scalar<_Tp>::__value, void>::__type\n",
            "         .               __fill_a1(_ForwardIterator __first, _ForwardIterator __last,\n",
            "         .           \t      const _Tp& __value)\n",
            "         .               {\n",
            "         .                 const _Tp __tmp = __value;\n",
            "12,582,916 (24.88%)        for (; __first != __last; ++__first)\n",
            " 4,194,304 ( 8.29%)  \t*__first = __tmp;\n",
            "         .               }\n",
            "         .           \n",
            "         .             // Specialization: for char types we can use memset.\n",
            "         .             template<typename _Tp>\n",
            "         .               _GLIBCXX20_CONSTEXPR\n",
            "         .               inline typename\n",
            "         .               __gnu_cxx::__enable_if<__is_byte<_Tp>::__value, void>::__type\n",
            "         .               __fill_a1(_Tp* __first, _Tp* __last, const _Tp& __c)\n",
            "-- line 932 ----------------------------------------\n",
            "\n",
            "--------------------------------------------------------------------------------\n",
            "-- User-annotated source: profile.cpp\n",
            "--------------------------------------------------------------------------------\n",
            "  No information has been collected for profile.cpp\n",
            "\n",
            "--------------------------------------------------------------------------------\n",
            "The following files chosen for auto-annotation could not be found:\n",
            "--------------------------------------------------------------------------------\n",
            "  ./elf/../sysdeps/x86_64/dl-machine.h\n",
            "  ./elf/./elf/dl-lookup.c\n",
            "\n",
            "--------------------------------------------------------------------------------\n",
            "Ir                  \n",
            "--------------------------------------------------------------------------------\n",
            "48,252,946 (95.40%)  events annotated\n",
            "\n"
          ]
        }
      ]
    },
    {
      "cell_type": "code",
      "source": [
        "!gprof2dot  -n0.1 -f callgrind callgrind.out.47894 | dot -Tsvg -o output.svg"
      ],
      "metadata": {
        "id": "RA4gNUO-0Uns"
      },
      "execution_count": 31,
      "outputs": []
    },
    {
      "cell_type": "code",
      "source": [
        "!gprof2dot  -n0.1 -f callgrind callgrind.out.47894 | dot -Tsvg -o output3.svg"
      ],
      "metadata": {
        "id": "IP8m5kw-1XU8"
      },
      "execution_count": 32,
      "outputs": []
    },
    {
      "cell_type": "code",
      "source": [
        "!g++ -g euclides-ingenuo.cpp -o euclides-ingenuo"
      ],
      "metadata": {
        "id": "QTLenX9d3afv"
      },
      "execution_count": 34,
      "outputs": []
    },
    {
      "cell_type": "code",
      "source": [
        "!valgrind --tool=callgrind ./euclides-ingenuo"
      ],
      "metadata": {
        "id": "pLlSEBWt4UAp",
        "outputId": "b02c17dd-7f74-4659-993c-0af28f2bebb6",
        "colab": {
          "base_uri": "https://localhost:8080/"
        }
      },
      "execution_count": 36,
      "outputs": [
        {
          "output_type": "stream",
          "name": "stdout",
          "text": [
            "==53904== Callgrind, a call-graph generating cache profiler\n",
            "==53904== Copyright (C) 2002-2017, and GNU GPL'd, by Josef Weidendorfer et al.\n",
            "==53904== Using Valgrind-3.18.1 and LibVEX; rerun with -h for copyright info\n",
            "==53904== Command: ./euclides-ingenuo\n",
            "==53904== \n",
            "==53904== For interactive control, run 'callgrind_control -h'.\n",
            "==53904== \n",
            "==53904== Process terminating with default action of signal 2 (SIGINT)\n",
            "==53904==    at 0x4BB9992: read (read.c:26)\n",
            "==53904==    by 0x4B31CB5: _IO_file_underflow@@GLIBC_2.2.5 (fileops.c:516)\n",
            "==53904==    by 0x4B32E15: _IO_default_uflow (genops.c:362)\n",
            "==53904==    by 0x496B8C0: __gnu_cxx::stdio_sync_filebuf<char, std::char_traits<char> >::underflow() (in /usr/lib/x86_64-linux-gnu/libstdc++.so.6.0.30)\n",
            "==53904==    by 0x49799D5: std::istream::sentry::sentry(std::istream&, bool) (in /usr/lib/x86_64-linux-gnu/libstdc++.so.6.0.30)\n",
            "==53904==    by 0x4979C31: std::istream::operator>>(int&) (in /usr/lib/x86_64-linux-gnu/libstdc++.so.6.0.30)\n",
            "==53904==    by 0x109534: main (euclides-ingenuo.cpp:25)\n",
            "==53904== \n",
            "==53904== Events    : Ir\n",
            "==53904== Collected : 2320620\n",
            "==53904== \n",
            "==53904== I   refs:      2,320,620\n",
            "^C\n"
          ]
        }
      ]
    },
    {
      "cell_type": "code",
      "source": [],
      "metadata": {
        "id": "HecTipQm4ypB"
      },
      "execution_count": null,
      "outputs": []
    }
  ]
}